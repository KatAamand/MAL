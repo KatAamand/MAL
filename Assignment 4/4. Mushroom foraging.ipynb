{
 "cells": [
  {
   "cell_type": "markdown",
   "id": "0bafe240-5583-43b9-86b0-4366a08c288c",
   "metadata": {},
   "source": [
    "# 4. Mushroom foraging"
   ]
  },
  {
   "cell_type": "markdown",
   "id": "31181875-5c48-4e3b-9ba3-a0febdb9ebb2",
   "metadata": {},
   "source": [
    "The [mushroom dataset](https://www.kaggle.com/datasets/dhinaharp/mushroom-dataset) contains data about approximately 60000 mushrooms, and your task is to classify them as either edible or poisonous. You can read about the features [here](https://www.kaggle.com/datasets/uciml/mushroom-classification) and import the data using:"
   ]
  },
  {
   "cell_type": "code",
   "id": "41995351-199c-4a0e-81eb-c882e435dcbd",
   "metadata": {
    "ExecuteTime": {
     "end_time": "2025-06-09T12:52:06.317553Z",
     "start_time": "2025-06-09T12:52:06.225004Z"
    }
   },
   "source": [
    "import pandas as pd\n",
    "import numpy as np\n",
    "from nltk import DecisionTreeClassifier\n",
    "from sklearn.model_selection import train_test_split\n",
    "from sklearn.preprocessing import StandardScaler\n",
    "\n",
    "pd.set_option('display.max_columns', 1000)\n",
    "df = pd.read_csv('secondary_data.csv', delimiter = ';')\n",
    "df.head()"
   ],
   "outputs": [
    {
     "data": {
      "text/plain": [
       "  class  cap-diameter cap-shape cap-surface cap-color does-bruise-or-bleed  \\\n",
       "0     p         15.26         x           g         o                    f   \n",
       "1     p         16.60         x           g         o                    f   \n",
       "2     p         14.07         x           g         o                    f   \n",
       "3     p         14.17         f           h         e                    f   \n",
       "4     p         14.64         x           h         o                    f   \n",
       "\n",
       "  gill-attachment gill-spacing gill-color  stem-height  stem-width stem-root  \\\n",
       "0               e          NaN          w        16.95       17.09         s   \n",
       "1               e          NaN          w        17.99       18.19         s   \n",
       "2               e          NaN          w        17.80       17.74         s   \n",
       "3               e          NaN          w        15.77       15.98         s   \n",
       "4               e          NaN          w        16.53       17.20         s   \n",
       "\n",
       "  stem-surface stem-color veil-type veil-color has-ring ring-type  \\\n",
       "0            y          w         u          w        t         g   \n",
       "1            y          w         u          w        t         g   \n",
       "2            y          w         u          w        t         g   \n",
       "3            y          w         u          w        t         p   \n",
       "4            y          w         u          w        t         p   \n",
       "\n",
       "  spore-print-color habitat season  \n",
       "0               NaN       d      w  \n",
       "1               NaN       d      u  \n",
       "2               NaN       d      w  \n",
       "3               NaN       d      w  \n",
       "4               NaN       d      w  "
      ],
      "text/html": [
       "<div>\n",
       "<style scoped>\n",
       "    .dataframe tbody tr th:only-of-type {\n",
       "        vertical-align: middle;\n",
       "    }\n",
       "\n",
       "    .dataframe tbody tr th {\n",
       "        vertical-align: top;\n",
       "    }\n",
       "\n",
       "    .dataframe thead th {\n",
       "        text-align: right;\n",
       "    }\n",
       "</style>\n",
       "<table border=\"1\" class=\"dataframe\">\n",
       "  <thead>\n",
       "    <tr style=\"text-align: right;\">\n",
       "      <th></th>\n",
       "      <th>class</th>\n",
       "      <th>cap-diameter</th>\n",
       "      <th>cap-shape</th>\n",
       "      <th>cap-surface</th>\n",
       "      <th>cap-color</th>\n",
       "      <th>does-bruise-or-bleed</th>\n",
       "      <th>gill-attachment</th>\n",
       "      <th>gill-spacing</th>\n",
       "      <th>gill-color</th>\n",
       "      <th>stem-height</th>\n",
       "      <th>stem-width</th>\n",
       "      <th>stem-root</th>\n",
       "      <th>stem-surface</th>\n",
       "      <th>stem-color</th>\n",
       "      <th>veil-type</th>\n",
       "      <th>veil-color</th>\n",
       "      <th>has-ring</th>\n",
       "      <th>ring-type</th>\n",
       "      <th>spore-print-color</th>\n",
       "      <th>habitat</th>\n",
       "      <th>season</th>\n",
       "    </tr>\n",
       "  </thead>\n",
       "  <tbody>\n",
       "    <tr>\n",
       "      <th>0</th>\n",
       "      <td>p</td>\n",
       "      <td>15.26</td>\n",
       "      <td>x</td>\n",
       "      <td>g</td>\n",
       "      <td>o</td>\n",
       "      <td>f</td>\n",
       "      <td>e</td>\n",
       "      <td>NaN</td>\n",
       "      <td>w</td>\n",
       "      <td>16.95</td>\n",
       "      <td>17.09</td>\n",
       "      <td>s</td>\n",
       "      <td>y</td>\n",
       "      <td>w</td>\n",
       "      <td>u</td>\n",
       "      <td>w</td>\n",
       "      <td>t</td>\n",
       "      <td>g</td>\n",
       "      <td>NaN</td>\n",
       "      <td>d</td>\n",
       "      <td>w</td>\n",
       "    </tr>\n",
       "    <tr>\n",
       "      <th>1</th>\n",
       "      <td>p</td>\n",
       "      <td>16.60</td>\n",
       "      <td>x</td>\n",
       "      <td>g</td>\n",
       "      <td>o</td>\n",
       "      <td>f</td>\n",
       "      <td>e</td>\n",
       "      <td>NaN</td>\n",
       "      <td>w</td>\n",
       "      <td>17.99</td>\n",
       "      <td>18.19</td>\n",
       "      <td>s</td>\n",
       "      <td>y</td>\n",
       "      <td>w</td>\n",
       "      <td>u</td>\n",
       "      <td>w</td>\n",
       "      <td>t</td>\n",
       "      <td>g</td>\n",
       "      <td>NaN</td>\n",
       "      <td>d</td>\n",
       "      <td>u</td>\n",
       "    </tr>\n",
       "    <tr>\n",
       "      <th>2</th>\n",
       "      <td>p</td>\n",
       "      <td>14.07</td>\n",
       "      <td>x</td>\n",
       "      <td>g</td>\n",
       "      <td>o</td>\n",
       "      <td>f</td>\n",
       "      <td>e</td>\n",
       "      <td>NaN</td>\n",
       "      <td>w</td>\n",
       "      <td>17.80</td>\n",
       "      <td>17.74</td>\n",
       "      <td>s</td>\n",
       "      <td>y</td>\n",
       "      <td>w</td>\n",
       "      <td>u</td>\n",
       "      <td>w</td>\n",
       "      <td>t</td>\n",
       "      <td>g</td>\n",
       "      <td>NaN</td>\n",
       "      <td>d</td>\n",
       "      <td>w</td>\n",
       "    </tr>\n",
       "    <tr>\n",
       "      <th>3</th>\n",
       "      <td>p</td>\n",
       "      <td>14.17</td>\n",
       "      <td>f</td>\n",
       "      <td>h</td>\n",
       "      <td>e</td>\n",
       "      <td>f</td>\n",
       "      <td>e</td>\n",
       "      <td>NaN</td>\n",
       "      <td>w</td>\n",
       "      <td>15.77</td>\n",
       "      <td>15.98</td>\n",
       "      <td>s</td>\n",
       "      <td>y</td>\n",
       "      <td>w</td>\n",
       "      <td>u</td>\n",
       "      <td>w</td>\n",
       "      <td>t</td>\n",
       "      <td>p</td>\n",
       "      <td>NaN</td>\n",
       "      <td>d</td>\n",
       "      <td>w</td>\n",
       "    </tr>\n",
       "    <tr>\n",
       "      <th>4</th>\n",
       "      <td>p</td>\n",
       "      <td>14.64</td>\n",
       "      <td>x</td>\n",
       "      <td>h</td>\n",
       "      <td>o</td>\n",
       "      <td>f</td>\n",
       "      <td>e</td>\n",
       "      <td>NaN</td>\n",
       "      <td>w</td>\n",
       "      <td>16.53</td>\n",
       "      <td>17.20</td>\n",
       "      <td>s</td>\n",
       "      <td>y</td>\n",
       "      <td>w</td>\n",
       "      <td>u</td>\n",
       "      <td>w</td>\n",
       "      <td>t</td>\n",
       "      <td>p</td>\n",
       "      <td>NaN</td>\n",
       "      <td>d</td>\n",
       "      <td>w</td>\n",
       "    </tr>\n",
       "  </tbody>\n",
       "</table>\n",
       "</div>"
      ]
     },
     "execution_count": 50,
     "metadata": {},
     "output_type": "execute_result"
    }
   ],
   "execution_count": 50
  },
  {
   "cell_type": "markdown",
   "id": "8ab16bc8-44af-4f86-97f8-ae339dbbbd67",
   "metadata": {},
   "source": [
    "It's up to you how you approach this data, but at a minimum, your analysis should include:\n",
    "\n",
    "* Informed **data preparation**.\n",
    "* 2 different classification models, one of which must be **logistic regression**.\n",
    "* A discussion of which **performance metric** is most relevant for the evaluation of your models.\n",
    "* 2 different **validation methodologies** used to tune hyperparameters.\n",
    "* **Confusion matrices** for your models, and associated comments."
   ]
  },
  {
   "metadata": {},
   "cell_type": "markdown",
   "source": [
    "## Dataforberedelse\n",
    "\n",
    "### 1. Dataundersøgelse\n",
    "\n",
    "Vi starter med at undersøge datasættets struktur og typer:\n",
    "\n",
    "- **Form:** 61.069 rækker og 21 kolonner\n",
    "- **Datatyper:** 3 numeriske features, 18 kategoriske features\n",
    "- **Manglende værdier:** Flere kolonner indeholder NaN og kræver behandling\n"
   ],
   "id": "6ae662fe22ff9241"
  },
  {
   "metadata": {
    "ExecuteTime": {
     "end_time": "2025-06-09T12:52:06.423419Z",
     "start_time": "2025-06-09T12:52:06.354382Z"
    }
   },
   "cell_type": "code",
   "source": [
    "# Udskriv datatype og manglende værdier for hver kolonne\n",
    "df.info()\n",
    "\n",
    "# Udskriv unikke værdier i hver kolonne\n",
    "for column in df.columns:\n",
    "    print(f\"{column}: {df[column].unique()}\")"
   ],
   "id": "c9cd9ff530c65218",
   "outputs": [
    {
     "name": "stdout",
     "output_type": "stream",
     "text": [
      "<class 'pandas.core.frame.DataFrame'>\n",
      "RangeIndex: 61069 entries, 0 to 61068\n",
      "Data columns (total 21 columns):\n",
      " #   Column                Non-Null Count  Dtype  \n",
      "---  ------                --------------  -----  \n",
      " 0   class                 61069 non-null  object \n",
      " 1   cap-diameter          61069 non-null  float64\n",
      " 2   cap-shape             61069 non-null  object \n",
      " 3   cap-surface           46949 non-null  object \n",
      " 4   cap-color             61069 non-null  object \n",
      " 5   does-bruise-or-bleed  61069 non-null  object \n",
      " 6   gill-attachment       51185 non-null  object \n",
      " 7   gill-spacing          36006 non-null  object \n",
      " 8   gill-color            61069 non-null  object \n",
      " 9   stem-height           61069 non-null  float64\n",
      " 10  stem-width            61069 non-null  float64\n",
      " 11  stem-root             9531 non-null   object \n",
      " 12  stem-surface          22945 non-null  object \n",
      " 13  stem-color            61069 non-null  object \n",
      " 14  veil-type             3177 non-null   object \n",
      " 15  veil-color            7413 non-null   object \n",
      " 16  has-ring              61069 non-null  object \n",
      " 17  ring-type             58598 non-null  object \n",
      " 18  spore-print-color     6354 non-null   object \n",
      " 19  habitat               61069 non-null  object \n",
      " 20  season                61069 non-null  object \n",
      "dtypes: float64(3), object(18)\n",
      "memory usage: 9.8+ MB\n",
      "class: ['p' 'e']\n",
      "cap-diameter: [15.26 16.6  14.07 ... 22.85 21.8  20.42]\n",
      "cap-shape: ['x' 'f' 'p' 'b' 'c' 's' 'o']\n",
      "cap-surface: ['g' 'h' nan 't' 'y' 'e' 's' 'l' 'd' 'w' 'i' 'k']\n",
      "cap-color: ['o' 'e' 'n' 'g' 'r' 'w' 'y' 'p' 'u' 'b' 'l' 'k']\n",
      "does-bruise-or-bleed: ['f' 't']\n",
      "gill-attachment: ['e' nan 'a' 'd' 's' 'x' 'p' 'f']\n",
      "gill-spacing: [nan 'c' 'd' 'f']\n",
      "gill-color: ['w' 'n' 'p' 'u' 'b' 'g' 'y' 'r' 'e' 'o' 'k' 'f']\n",
      "stem-height: [16.95 17.99 17.8  ...  1.23  1.16  0.  ]\n",
      "stem-width: [17.09 18.19 17.74 ... 32.59 30.99 30.51]\n",
      "stem-root: ['s' nan 'b' 'r' 'c' 'f']\n",
      "stem-surface: ['y' nan 's' 'k' 'i' 'h' 't' 'g' 'f']\n",
      "stem-color: ['w' 'y' 'n' 'u' 'b' 'l' 'r' 'p' 'e' 'k' 'g' 'o' 'f']\n",
      "veil-type: ['u' nan]\n",
      "veil-color: ['w' 'y' nan 'n' 'e' 'u' 'k']\n",
      "has-ring: ['t' 'f']\n",
      "ring-type: ['g' 'p' 'e' 'l' 'f' 'm' nan 'r' 'z']\n",
      "spore-print-color: [nan 'w' 'p' 'k' 'r' 'u' 'n' 'g']\n",
      "habitat: ['d' 'm' 'g' 'h' 'l' 'p' 'w' 'u']\n",
      "season: ['w' 'u' 'a' 's']\n"
     ]
    }
   ],
   "execution_count": 51
  },
  {
   "metadata": {},
   "cell_type": "markdown",
   "source": [
    "### 2. Håndtering af manglende værdier\n",
    "\n",
    "**Kolonner med mange manglende værdier (fjernes):**\n",
    "\n",
    "| Kolonne              | Ikke-NaN værdier |\n",
    "|----------------------|------------------|\n",
    "| `stem-root`          | 5931             |\n",
    "| `veil-type`          | 3177             |\n",
    "| `veil-color`         | 7413             |\n",
    "| `spore-print-color`  | 6354             |\n",
    "\n",
    "Disse kolonner fjernes helt, da de har for mange manglende værdier til at være meningsfulde i modellerne.\n",
    "Kolonnen `has-ring` fjernes også, da informationen allerede er dækket af `ring-type`.\n",
    "\n",
    "#### Kategoriske kolonner med få manglende værdier:\n",
    "- `cap-surface`, `stem-surface`, `gill-spacing`, `gill-attachment`, `ring-type`\n",
    "\n",
    "Da alle disse er kategoriske, vælger vi at udfylde de manglende værdier med en ny kategori `\"missing\"` for at bevare datastrukturen.\n",
    "Vi tjekker til sidst, at der ikke er flere manglende værdier i datasættet."
   ],
   "id": "91b46aa39357833"
  },
  {
   "metadata": {
    "ExecuteTime": {
     "end_time": "2025-06-09T12:52:06.549697Z",
     "start_time": "2025-06-09T12:52:06.478206Z"
    }
   },
   "cell_type": "code",
   "source": [
    "# Fjern kolonner med mange manglende værdier samt 'has-ring'\n",
    "df_reduced = df.drop(['stem-root', 'veil-type', 'veil-color', 'spore-print-color', 'has-ring'], axis=1)\n",
    "\n",
    "# Udfyld manglende værdier med ny kategori \"missing\"\n",
    "kategoriske_kolonner_med_nan = ['cap-surface', 'gill-attachment', 'stem-surface', 'gill-spacing', 'ring-type']\n",
    "df_reduced[kategoriske_kolonner_med_nan] = df_reduced[kategoriske_kolonner_med_nan].fillna('missing')\n",
    "\n",
    "# Tjek at der ikke længere er manglende værdier i datasættet\n",
    "df_reduced.isnull().sum().sum()  # Output: 0"
   ],
   "id": "feaa640992631c23",
   "outputs": [
    {
     "data": {
      "text/plain": [
       "np.int64(0)"
      ]
     },
     "execution_count": 52,
     "metadata": {},
     "output_type": "execute_result"
    }
   ],
   "execution_count": 52
  },
  {
   "metadata": {},
   "cell_type": "markdown",
   "source": [
    "### 3. Analyse af klassefordeling\n",
    "\n",
    "Vi analyserer fordelingen af target-klassen (`class`), som viser:\n",
    "\n",
    "- **Giftige svampe (p):** ca. 55%\n",
    "- **Spiselige svampe (e):** ca. 45%\n",
    "\n",
    "#### Konklusion:\n",
    "\n",
    "Datasættet er let ubalanceret. Derfor er **accuracy** ikke en tilstrækkelig evalueringsmetrik.\n",
    "\n",
    "Vi vælger at fokusere på:\n",
    "\n",
    "- **Recall** – for at undgå at overse giftige svampe\n",
    "- **Precision** – for at undgå falske positiver\n",
    "- **F1-score** – som balancerer recall og precision, og bliver vores primære metrik"
   ],
   "id": "6709111719cf1887"
  },
  {
   "metadata": {
    "ExecuteTime": {
     "end_time": "2025-06-09T12:52:06.658493Z",
     "start_time": "2025-06-09T12:52:06.650620Z"
    }
   },
   "cell_type": "code",
   "source": "df_reduced['class'].value_counts(normalize=True)",
   "id": "9ab08a6441d83f6b",
   "outputs": [
    {
     "data": {
      "text/plain": [
       "class\n",
       "p    0.554913\n",
       "e    0.445087\n",
       "Name: proportion, dtype: float64"
      ]
     },
     "execution_count": 53,
     "metadata": {},
     "output_type": "execute_result"
    }
   ],
   "execution_count": 53
  },
  {
   "metadata": {},
   "cell_type": "markdown",
   "source": [
    "### 4. Analyse af numeriske features\n",
    "\n",
    "Vi ser på de tre numeriske kolonner: `cap-diameter`, `stem-height`, og `stem-width`.\n",
    "\n",
    "Vi observerer følgende:\n",
    "- `cap-diameter`: langt de fleste svampe har en diameter mellem 3.4 og 8.5 cm, men der findes en outlier på 62.3 cm\n",
    "- `stem-width`: outlier på hele 103.9 cm\n",
    "\n",
    "Disse værdier er så ekstreme, at de sandsynligvis er fejl eller usædvanlige tilfælde.\n",
    "\n",
    "#### Valgt strategi:\n",
    "Vi vælger at fjerne disse outliers ved at filtrere ud fra percentiler (f.eks. holde værdier under 99. percentil), så vores modeller kun trænes på realistiske og repræsentative data."
   ],
   "id": "b4c25c3508007d8c"
  },
  {
   "metadata": {
    "ExecuteTime": {
     "end_time": "2025-06-09T12:52:07.311976Z",
     "start_time": "2025-06-09T12:52:06.798048Z"
    }
   },
   "cell_type": "code",
   "source": [
    "df_reduced[['cap-diameter', 'stem-height', 'stem-width']].describe()\n",
    "\n",
    "import matplotlib.pyplot as plt\n",
    "import seaborn as sns\n",
    "\n",
    "# Indstil plotstørrelse\n",
    "plt.figure(figsize=(12, 6))\n",
    "\n",
    "# Lav boxplots for alle numeriske kolonner\n",
    "numeriske_kolonner = ['cap-diameter', 'stem-height', 'stem-width']\n",
    "sns.boxplot(data=df_reduced[numeriske_kolonner], orient=\"h\")\n",
    "plt.title(\"Boxplot af numeriske variabler\")\n",
    "plt.xlabel(\"Værdi\")\n",
    "plt.show()"
   ],
   "id": "62172c90cb2c6d59",
   "outputs": [
    {
     "data": {
      "text/plain": [
       "<Figure size 1200x600 with 1 Axes>"
      ],
      "image/png": "[encoded data removed]"
     },
     "metadata": {},
     "output_type": "display_data"
    }
   ],
   "execution_count": 54
  },
  {
   "metadata": {},
   "cell_type": "markdown",
   "source": [
    "### Visualisering af outliers med boxplot\n",
    "\n",
    "For at understøtte vores analyse af de numeriske variabler har vi visualiseret `cap-diameter`, `stem-height` og `stem-width` med et boxplot.\n",
    "\n",
    "Boxplottet viser:\n",
    "\n",
    "- Median og interkvartilområde (IQR), dvs. 25%- og 75%-percentilen\n",
    "- \"Whiskers\", som dækker værdier inden for 1.5 × IQR\n",
    "- Outliers som individuelle punkter udenfor whiskers\n",
    "\n",
    "#### Observationer:\n",
    "\n",
    "- `cap-diameter` viser mange outliers over den øvre whisker. Det bekræfter, at værdier som 62.3 cm er ekstreme og bør fjernes.\n",
    "- `stem-height` har få outliers, men er generelt mere kompakt.\n",
    "- `stem-width` har ekstrem spredning med mange værdier langt ude – fx omkring 40–45, hvilket styrker mistanken om målefejl eller ukorrekte værdier.\n",
    "\n",
    "Vi vælger at fjerne disse outliers ved at filtrere både lave og høje outliers fra, dvs. alt uden for 1.-99. perentil. Dette sikrer, at modellerne kun trænes på realistiske og repræsentative data.\n",
    "\n",
    "Boxplottet bekræfter visuelt, at der er ekstreme værdier, som kan skade modellens ydeevne, hvis de ikke fjernes.\n"
   ],
   "id": "efb0e43cc88291b2"
  },
  {
   "metadata": {
    "ExecuteTime": {
     "end_time": "2025-06-09T12:56:27.817870Z",
     "start_time": "2025-06-09T12:56:27.362209Z"
    }
   },
   "cell_type": "code",
   "source": [
    "# Beregn 1. og 99. percentil for hver kolonne\n",
    "graenser = {\n",
    "    col: {\n",
    "        'lower': np.percentile(df_reduced[col], 1),\n",
    "        'upper': np.percentile(df_reduced[col], 99)\n",
    "    }\n",
    "    for col in numeriske_kolonner\n",
    "}\n",
    "\n",
    "for col, val in graenser.items():\n",
    "    print(f\"{col}: {val['lower']:.2f}–{val['upper']:.2f}\")\n",
    "\n",
    "# Start med en \"True\"-maske (alt bevares)\n",
    "maske = pd.Series(True, index=df_reduced.index)\n",
    "\n",
    "# Opdater masken for hver kolonne\n",
    "for col in numeriske_kolonner:\n",
    "    lower = graenser[col]['lower']\n",
    "    upper = graenser[col]['upper']\n",
    "    maske &= df_reduced[col].between(lower, upper)\n",
    "\n",
    "# Filtrér datasættet\n",
    "df_reduced = df_reduced[maske]\n",
    "\n",
    "# Plot filtrerede datasæt\n",
    "plt.figure(figsize=(10, 6))\n",
    "sns.boxplot(data=df_reduced[numeriske_kolonner], orient=\"h\")\n",
    "plt.title(\"Boxplot efter korrekt fjernelse af low og high outliers (1.–99. percentil)\")\n",
    "plt.xlabel(\"Værdi\")\n",
    "plt.show()\n",
    "\n"
   ],
   "id": "381d6bfd2bc98c68",
   "outputs": [
    {
     "name": "stdout",
     "output_type": "stream",
     "text": [
      "cap-diameter: 1.34–13.04\n",
      "stem-height: 0.00–11.70\n",
      "stem-width: 0.00–26.64\n"
     ]
    },
    {
     "data": {
      "text/plain": [
       "<Figure size 1000x600 with 1 Axes>"
      ],
      "image/png": "[encoded data removed]"
     },
     "metadata": {},
     "output_type": "display_data"
    }
   ],
   "execution_count": 68
  },
  {
   "metadata": {},
   "cell_type": "markdown",
   "source": [
    "### 5. One-hot encoding af kategoriske variabler\n",
    "For at omdanne de kategoriske variabler til noget modellerne kan forstå, anvender vi **One-hot encoding**.\n",
    "Dette skaber binære kolonner for hver kategori i hver feature, og vi vælger `drop_first=True` for at undgå multikollinearitet.\n",
    "Alle NaN-værdier er allerede behandlet, så vi undgår fejl under encoding.\n"
   ],
   "id": "b872602526758d32"
  },
  {
   "metadata": {
    "ExecuteTime": {
     "end_time": "2025-06-09T12:52:07.926451Z",
     "start_time": "2025-06-09T12:52:07.866912Z"
    }
   },
   "cell_type": "code",
   "source": [
    "# Omdan kategoriske features til numeriske vha. one-hot encoding\n",
    "df_encoded = pd.get_dummies(df_reduced, drop_first=True)"
   ],
   "id": "cfccac67cf5a1f58",
   "outputs": [],
   "execution_count": 56
  },
  {
   "metadata": {},
   "cell_type": "markdown",
   "source": [
    "### Klar til modellering\n",
    "\n",
    "Vi har nu et rengjort og fuldt forberedt datasæt:\n",
    "\n",
    "- Ingen manglende værdier\n",
    "- Alle kategoriske features er blevet numeriske\n",
    "- Ekstreme outliers er fjernet\n",
    "- Klassedistributionen er analyseret og vores evalueringsmetrikker er valgt\n",
    "\n",
    "Datasættet er nu klar til at blive opdelt i trænings-, validerings- og testdata og brugt i forskellige modeller.\n"
   ],
   "id": "960b89a40128e328"
  },
  {
   "metadata": {},
   "cell_type": "markdown",
   "source": [
    "## Klassifikationsmodeller\n",
    "\n",
    "Vi evaluerer vores datasæt med to forskellige klassifikationsmodeller:\n",
    "\n",
    "- **Logistisk regression** *(baseline-model)*:\n",
    "  Valgt for sin enkelhed, tydelige fortolkning og hurtige træning. Bruges som reference.\n",
    "\n",
    "- **Beslutningstræ (Decision Tree)**:\n",
    "  Valgt pga. sin evne til at håndtere kategoriske features direkte, sin robusthed overfor feature-skala og sin gode fortolkbarhed.\n",
    "\n",
    "---\n",
    "\n",
    "### Opdeling af datasættet i trænings-, validerings- og testdata\n",
    "\n",
    "For at kunne evaluere modellerne pålideligt opdeler vi datasættet i tre separate dele:\n",
    "\n",
    "- **Træningssæt (60%)**: Bruges til at træne modellen.\n",
    "- **Valideringssæt (20%)**: Bruges til at finjustere hyperparametre og undgå overfitting.\n",
    "- **Testsæt (20%)**: Bruges til endelig og upåvirket evaluering af modellens performance.\n",
    "\n",
    "Vi stratificerer på target-klassen (`class_p`) for at sikre, at fordelingen af klasser bevares i alle tre datasæt.\n",
    "\n"
   ],
   "id": "39493b8fd02c4cf6"
  },
  {
   "metadata": {
    "ExecuteTime": {
     "end_time": "2025-06-09T12:59:39.834949Z",
     "start_time": "2025-06-09T12:59:39.769748Z"
    }
   },
   "cell_type": "code",
   "source": [
    "from sklearn.model_selection import train_test_split\n",
    "\n",
    "# Første opdeling:\n",
    "# Vi opdeler datasættet i 80% midlertidigt datasæt (til træning/validering) og 20% testsæt.\n",
    "# Stratificering sikrer, at klassefordelingen i target-variablen 'class_p' bevares.\n",
    "X_temp, X_test, y_temp, y_test = train_test_split(\n",
    "    df_encoded.drop('class_p', axis=1),        # Features (uafhængige variabler)\n",
    "    df_encoded['class_p'],                     # Target (afhængig variabel)\n",
    "    test_size=0.2,                             # 20% af data til test\n",
    "    random_state=42,                           # Fast seed for reproducerbare resultater\n",
    "    stratify=df_encoded['class_p']             # Bevar klassefordeling\n",
    ")\n",
    "\n",
    "# Anden opdeling:\n",
    "# Vi opdeler det midlertidige datasæt (80%) i 60% træningssæt og 20% valideringssæt.\n",
    "# Det svarer til at træningssættet udgør 60% af det samlede datasæt og valideringssættet 20%.\n",
    "X_train, X_val, y_train, y_val = train_test_split(\n",
    "    X_temp,\n",
    "    y_temp,\n",
    "    test_size=0.25,                             # 25% af 80% = 20% af samlet datasæt\n",
    "    random_state=42,\n",
    "    stratify=y_temp                             # Bevar klassefordeling\n",
    ")\n",
    "\n",
    "# Bekræft størrelserne på de tre datasæt\n",
    "print(f'Træningssæt størrelse: {X_train.shape[0]} rækker')\n",
    "print(f'Valideringssæt størrelse: {X_val.shape[0]} rækker')\n",
    "print(f'Testsæt størrelse: {X_test.shape[0]} rækker')"
   ],
   "id": "2615c74ae9fe9a49",
   "outputs": [
    {
     "name": "stdout",
     "output_type": "stream",
     "text": [
      "Træningssæt størrelse: 35319 rækker\n",
      "Valideringssæt størrelse: 11773 rækker\n",
      "Testsæt størrelse: 11774 rækker\n"
     ]
    }
   ],
   "execution_count": 69
  },
  {
   "metadata": {},
   "cell_type": "markdown",
   "source": [
    "### Bekræftelse af størrelser\n",
    "\n",
    "Efter opdelingen har vi følgende størrelser:\n",
    "\n",
    "- **Træningssæt:** 60% = 35.319 rækker\n",
    "- **Valideringssæt:** 20% = 11.773 rækker\n",
    "- **Testsæt:** 20% = 11.774 rækker\n",
    "\n",
    "Alle tre sæt har en balanceret klassefordeling og kan nu anvendes til modeltræning og evaluering.\n"
   ],
   "id": "814896e792472e03"
  },
  {
   "metadata": {},
   "cell_type": "markdown",
   "source": [
    "## Træning og evaluering af modeller\n",
    "Vi træner og sammenligner to klassifikationsmodeller:\n",
    "\n",
    "- **Logistisk regression**, som kræver skalering af numeriske features\n",
    "- **Decision Tree**, som er skaleringsuafhængig og ofte lettere at fortolke\n",
    "\n",
    "---\n",
    "\n",
    "### Logistisk regression\n",
    "- Trænet på skalerede træningsdata\n",
    "- Evalueret på skalerede valideringsdata\n",
    "\n",
    "### Decision Tree\n",
    "- Trænet og evalueret direkte på de oprindelige data (ingen skalering nødvendig)\n"
   ],
   "id": "30f8b0f8aa145015"
  },
  {
   "metadata": {
    "ExecuteTime": {
     "end_time": "2025-06-09T13:00:48.421429Z",
     "start_time": "2025-06-09T13:00:47.496948Z"
    }
   },
   "cell_type": "code",
   "source": [
    "from sklearn.linear_model import LogisticRegression\n",
    "from sklearn.tree import DecisionTreeClassifier\n",
    "from sklearn.preprocessing import StandardScaler\n",
    "from sklearn.metrics import classification_report\n",
    "\n",
    "# Vi skalerer de numeriske features til Logistisk Regression (Decision Tree kræver det ikke)\n",
    "scaler = StandardScaler()\n",
    "\n",
    "# Fit scaler KUN på træningsdata, og brug den derefter på alle sæt\n",
    "X_train_scaled = scaler.fit_transform(X_train)\n",
    "X_val_scaled = scaler.transform(X_val)\n",
    "X_test_scaled = scaler.transform(X_test)\n",
    "\n",
    "# ----------------------------------------\n",
    "# Træning af Logistisk Regression-model\n",
    "lr_model = LogisticRegression(random_state=42)\n",
    "lr_model.fit(X_train_scaled, y_train)\n",
    "\n",
    "# Validering på validation set\n",
    "y_val_pred_lr = lr_model.predict(X_val_scaled)\n",
    "\n",
    "print(\"Resultater for Logistisk Regression på valideringssæt:\")\n",
    "print(classification_report(y_val, y_val_pred_lr))\n",
    "\n",
    "# ----------------------------------------\n",
    "# Træning af Decision Tree-model (kræver ikke skalering)\n",
    "tree_model = DecisionTreeClassifier(random_state=42)\n",
    "tree_model.fit(X_train, y_train)\n",
    "\n",
    "# Validering på validation set\n",
    "y_val_pred_tree = tree_model.predict(X_val)\n",
    "\n",
    "print(\"Resultater for Decision Tree på valideringssæt:\")\n",
    "print(classification_report(y_val, y_val_pred_tree))"
   ],
   "id": "7899c4083eb3b845",
   "outputs": [
    {
     "name": "stdout",
     "output_type": "stream",
     "text": [
      "Resultater for Logistisk Regression på valideringssæt:\n",
      "              precision    recall  f1-score   support\n",
      "\n",
      "       False       0.78      0.80      0.79      5140\n",
      "        True       0.84      0.82      0.83      6633\n",
      "\n",
      "    accuracy                           0.81     11773\n",
      "   macro avg       0.81      0.81      0.81     11773\n",
      "weighted avg       0.81      0.81      0.81     11773\n",
      "\n",
      "Resultater for Decision Tree på valideringssæt:\n",
      "              precision    recall  f1-score   support\n",
      "\n",
      "       False       1.00      1.00      1.00      5140\n",
      "        True       1.00      1.00      1.00      6633\n",
      "\n",
      "    accuracy                           1.00     11773\n",
      "   macro avg       1.00      1.00      1.00     11773\n",
      "weighted avg       1.00      1.00      1.00     11773\n",
      "\n"
     ]
    }
   ],
   "execution_count": 70
  },
  {
   "metadata": {},
   "cell_type": "markdown",
   "source": [
    "### Evalueringsmetrikker\n",
    "Når vi vurderer klassifikationsmodeller, bruger vi især følgende måltal:\n",
    "\n",
    "- **Precision**: Hvor mange af de positive forudsigelser var faktisk korrekte?\n",
    "  → *\"Hvor ofte har modellen ret, når den siger 'giftig'?\"*\n",
    "\n",
    "- **Recall** (sensitivitet): Hvor mange af de reelt positive blev fanget af modellen?\n",
    "  → *\"Hvor god er modellen til at finde alle giftige svampe?\"*\n",
    "\n",
    "- **F1-score**: Det harmoniske gennemsnit af precision og recall.\n",
    "  → Bruges når vi vil balancere mellem at undgå **falsk tryghed** og **falsk panik**.\n",
    "\n",
    "I vores tilfælde er **giftige svampe** den vigtigste klasse, fordi konsekvensen af at fejlkategorisere dem som spiselige kan være farlig. Derfor vægter vi **recall og F1-score højt**."
   ],
   "id": "3ba35ff679fab80b"
  },
  {
   "metadata": {
    "ExecuteTime": {
     "end_time": "2025-06-09T13:04:32.124907Z",
     "start_time": "2025-06-09T13:04:31.686095Z"
    }
   },
   "cell_type": "code",
   "source": [
    "from sklearn.metrics import confusion_matrix\n",
    "import seaborn as sns\n",
    "import matplotlib.pyplot as plt\n",
    "\n",
    "# Confusion matrix for begge modeller\n",
    "cm_lr = confusion_matrix(y_val, y_val_pred_lr)\n",
    "cm_tree = confusion_matrix(y_val, y_val_pred_tree)\n",
    "\n",
    "# Visualisering (side om side)\n",
    "fig, axs = plt.subplots(1, 2, figsize=(12, 5))\n",
    "\n",
    "sns.heatmap(cm_lr, annot=True, fmt=\"d\", cmap=\"Blues\", ax=axs[0])\n",
    "axs[0].set_title(\"Logistisk Regression\")\n",
    "axs[0].set_xlabel(\"Forudsagt\")\n",
    "axs[0].set_ylabel(\"Faktisk\")\n",
    "\n",
    "sns.heatmap(cm_tree, annot=True, fmt=\"d\", cmap=\"Greens\", ax=axs[1])\n",
    "axs[1].set_title(\"Decision Tree\")\n",
    "axs[1].set_xlabel(\"Forudsagt\")\n",
    "axs[1].set_ylabel(\"Faktisk\")\n",
    "\n",
    "plt.tight_layout()\n",
    "plt.show()\n",
    "\n",
    "from sklearn.metrics import precision_recall_fscore_support\n",
    "\n",
    "# Få F1-scores direkte\n",
    "_, _, f1_lr, _ = precision_recall_fscore_support(y_val, y_val_pred_lr)\n",
    "_, _, f1_tree, _ = precision_recall_fscore_support(y_val, y_val_pred_tree)\n",
    "\n",
    "labels = ['Spiselig', 'Giftig']\n",
    "x = range(len(labels))\n",
    "\n",
    "plt.figure(figsize=(8,5))\n",
    "plt.bar(x, f1_lr, width=0.4, label='Logistisk Regression', align='center')\n",
    "plt.bar([i + 0.4 for i in x], f1_tree, width=0.4, label='Decision Tree', align='center')\n",
    "\n",
    "plt.xticks([i + 0.2 for i in x], labels)\n",
    "plt.ylabel(\"F1-score\")\n",
    "plt.ylim(0, 1.1)\n",
    "plt.title(\"F1-score pr. klasse\")\n",
    "plt.legend()\n",
    "plt.show()\n",
    "\n"
   ],
   "id": "3c4c8e1d7f6394e3",
   "outputs": [
    {
     "data": {
      "text/plain": [
       "<Figure size 1200x500 with 4 Axes>"
      ],
      "image/png": "[encoded data removed]"
     },
     "metadata": {},
     "output_type": "display_data"
    },
    {
     "data": {
      "text/plain": [
       "<Figure size 800x500 with 1 Axes>"
      ],
      "image/png": "[encoded data removed]"
     },
     "metadata": {},
     "output_type": "display_data"
    }
   ],
   "execution_count": 72
  },
  {
   "metadata": {},
   "cell_type": "markdown",
   "source": [
    "## Evaluering af modeller: F1-score og fejltyper\n",
    "\n",
    "### Logistisk Regression\n",
    "- **F1-score**:\n",
    "  - Giftig: **0.84**\n",
    "  - Spiselig: **0.79**\n",
    "- **Fortolkning**: Modellen balancerer præcision og recall godt, men laver fejl i begge klasser.\n",
    "- **Fejlkilder**: 1020 spiselige svampe blev forvekslet som giftige (*false positives*) og 1196 giftige blev overset som spiselige (*false negatives*).\n",
    "\n",
    "### Decision Tree\n",
    "- **F1-score**:\n",
    "  - Giftig: **1.00**\n",
    "  - Spiselig: **1.00**\n",
    "- **Fortolkning**: Perfekt præstation – modellen klassificerer 100% korrekt på valideringssættet.\n",
    "- **Fejlkilder**: Kun 13 + 16 fejl i alt ud af over 11.700 prøver → tyder på **overfitting**, da dette sjældent holder på nye, ukendte data.\n",
    "\n",
    "---\n",
    "\n",
    "### Visuelle analyser\n",
    "\n",
    "#### Confusion Matrix\n",
    "- Viser hvor mange svampe der er klassificeret korrekt og forkert.\n",
    "- Bruges til at beregne recall og precision for hver klasse.\n",
    "- I vores tilfælde:\n",
    "  - **Logistisk Regression** har både false positives og false negatives.\n",
    "  - **Decision Tree** har næsten ingen fejl, hvilket giver mistanke om overfitting.\n",
    "\n",
    "#### F1-score diagram\n",
    "- Giver et klart billede af modellernes styrker pr. klasse.\n",
    "- **Decision Tree** opnår perfekte 1.00-scorer for begge klasser.\n",
    "- **Logistisk Regression** viser stabil men ikke perfekt balance – hvilket kan være mere realistisk i praksis.\n",
    "\n",
    "---\n",
    "\n",
    "### Vurdering\n",
    "- **Logistisk Regression** er mere konservativ og generaliserer formentlig bedre.\n",
    "- **Decision Tree** skal justeres med hyperparametre for at undgå overfitting."
   ],
   "id": "8f153756fd413cc9"
  },
  {
   "metadata": {},
   "cell_type": "markdown",
   "source": [
    "## Hyperparameter-tuning med GridSearchCV\n",
    "\n",
    "Vi har anvendt `GridSearchCV` med 5-fold cross-validation for at finde de optimale hyperparametre for vores to modeller."
   ],
   "id": "a34d144d396bc962"
  },
  {
   "metadata": {
    "ExecuteTime": {
     "end_time": "2025-06-09T13:08:58.985817Z",
     "start_time": "2025-06-09T13:08:50.191458Z"
    }
   },
   "cell_type": "code",
   "source": [
    "# Hyperparameter tuning for Logistisk Regression\n",
    "\n",
    "from sklearn.linear_model import LogisticRegression\n",
    "from sklearn.model_selection import GridSearchCV\n",
    "from sklearn.metrics import classification_report\n",
    "\n",
    "# Definér hvilke værdier vi vil teste for C (reguleringsstyrke)\n",
    "param_grid_lr = {\n",
    "    'C': [0.01, 0.1, 1, 10, 100],\n",
    "}\n",
    "\n",
    "# Initialisér GridSearchCV med 5-fold cross-validation og F1 som score\n",
    "grid_search_lr = GridSearchCV(\n",
    "    LogisticRegression(random_state=42, max_iter=1000),\n",
    "    param_grid_lr,\n",
    "    scoring='f1',\n",
    "    cv=5\n",
    ")\n",
    "\n",
    "# Træn modellen på det skalerede træningssæt\n",
    "grid_search_lr.fit(X_train_scaled, y_train)\n",
    "\n",
    "# Udskriv de bedste hyperparametre\n",
    "print(\"Bedste parametre for Logistisk Regression:\", grid_search_lr.best_params_)\n",
    "\n",
    "# Evaluer modellen med de bedste fundne parametre\n",
    "best_lr_model = grid_search_lr.best_estimator_\n",
    "y_val_pred_lr = best_lr_model.predict(X_val_scaled)\n",
    "\n",
    "print(\"Resultat for Logistisk Regression efter tuning:\")\n",
    "print(classification_report(y_val, y_val_pred_lr))"
   ],
   "id": "db8e92291ec5c77d",
   "outputs": [
    {
     "name": "stdout",
     "output_type": "stream",
     "text": [
      "Bedste parametre for Logistisk Regression: {'C': 0.01}\n",
      "Resultat for Logistisk Regression efter tuning:\n",
      "              precision    recall  f1-score   support\n",
      "\n",
      "       False       0.78      0.80      0.79      5140\n",
      "        True       0.84      0.82      0.83      6633\n",
      "\n",
      "    accuracy                           0.81     11773\n",
      "   macro avg       0.81      0.81      0.81     11773\n",
      "weighted avg       0.82      0.81      0.81     11773\n",
      "\n"
     ]
    }
   ],
   "execution_count": 73
  },
  {
   "metadata": {},
   "cell_type": "markdown",
   "source": [
    "### Logistisk Regression\n",
    "\n",
    "- Testede værdier for **C**: [0.01, 0.1, 1, 10, 100]\n",
    "- **Bedste værdi fundet:** C = 0.01\n",
    "- F1-score efter tuning:\n",
    "  - Giftig: 0.83\n",
    "  - Spiselig: 0.79\n",
    "- **Vurdering:**\n",
    "  Modellen blev en smule mere reguleret og dermed mindre tilbøjelig til overfitting. Resultaterne er lidt mere balancerede, især på giftige svampe.\n"
   ],
   "id": "684945f01af7604b"
  },
  {
   "metadata": {
    "ExecuteTime": {
     "end_time": "2025-06-09T12:52:29.154473Z",
     "start_time": "2025-06-09T12:52:16.511520Z"
    }
   },
   "cell_type": "code",
   "source": [
    "# Hyperparameter tuning for Decision Tree\n",
    "\n",
    "from sklearn.tree import DecisionTreeClassifier\n",
    "from sklearn.model_selection import GridSearchCV\n",
    "from sklearn.metrics import classification_report\n",
    "\n",
    "# Definér grid for max dybde og min samples pr. split\n",
    "param_grid_tree = {\n",
    "    'max_depth': [3, 5, 7, 10, 13, 15],\n",
    "    'min_samples_split': [2, 5, 10]\n",
    "}\n",
    "\n",
    "# Initialisér GridSearchCV\n",
    "grid_search_tree = GridSearchCV(\n",
    "    DecisionTreeClassifier(random_state=42),\n",
    "    param_grid_tree,\n",
    "    scoring='f1',\n",
    "    cv=5\n",
    ")\n",
    "\n",
    "# Træn modellen\n",
    "grid_search_tree.fit(X_train, y_train)\n",
    "\n",
    "# Udskriv bedste kombination\n",
    "print(\"Bedste parametre for Decision Tree:\", grid_search_tree.best_params_)\n",
    "\n",
    "# Evaluer den tunede model\n",
    "best_tree_model = grid_search_tree.best_estimator_\n",
    "y_val_pred_tree = best_tree_model.predict(X_val)\n",
    "\n",
    "print(\"Resultat for Decision Tree efter tuning:\")\n",
    "print(classification_report(y_val, y_val_pred_tree))"
   ],
   "id": "cf998f2f66dbad82",
   "outputs": [
    {
     "name": "stdout",
     "output_type": "stream",
     "text": [
      "Best Decision Tree parameters: {'max_depth': 15, 'min_samples_split': 5}\n",
      "Decision Tree performance after tuning:\n",
      "              precision    recall  f1-score   support\n",
      "\n",
      "       False       0.95      1.00      0.98      5140\n",
      "        True       1.00      0.96      0.98      6633\n",
      "\n",
      "    accuracy                           0.98     11773\n",
      "   macro avg       0.98      0.98      0.98     11773\n",
      "weighted avg       0.98      0.98      0.98     11773\n",
      "\n"
     ]
    }
   ],
   "execution_count": 60
  },
  {
   "metadata": {},
   "cell_type": "markdown",
   "source": [
    "### Decision Tree\n",
    "\n",
    "- Testede kombinationer:\n",
    "  - max_depth: [3, 5, 7, 10, 13, 15]\n",
    "  - min_samples_split: [2, 5, 10]\n",
    "- **Bedste kombination fundet:** max_depth = 15, min_samples_split = 5\n",
    "- F1-score efter tuning:\n",
    "  - Giftig: 0.98\n",
    "  - Spiselig: 0.98\n",
    "- **Vurdering:**\n",
    "  Decision Tree præsterer stadig ekstremt godt, men er nu lidt mere reguleret end tidligere (ikke 100% overalt). Risikoen for overfitting er reduceret, men stadig til stede."
   ],
   "id": "91cfa4a4513f7669"
  },
  {
   "metadata": {
    "ExecuteTime": {
     "end_time": "2025-06-09T13:13:06.396701Z",
     "start_time": "2025-06-09T13:13:06.217931Z"
    }
   },
   "cell_type": "code",
   "source": [
    "from sklearn.metrics import precision_recall_fscore_support\n",
    "import matplotlib.pyplot as plt\n",
    "import numpy as np\n",
    "\n",
    "# F1-score før tuning\n",
    "_, _, f1_lr_before, _ = precision_recall_fscore_support(y_val, y_val_pred_lr, zero_division=0)\n",
    "_, _, f1_tree_before, _ = precision_recall_fscore_support(y_val, y_val_pred_tree, zero_division=0)\n",
    "\n",
    "# F1-score efter tuning\n",
    "y_val_pred_lr_tuned = best_lr_model.predict(X_val_scaled)\n",
    "y_val_pred_tree_tuned = best_tree_model.predict(X_val)\n",
    "\n",
    "_, _, f1_lr_after, _ = precision_recall_fscore_support(y_val, y_val_pred_lr_tuned, zero_division=0)\n",
    "_, _, f1_tree_after, _ = precision_recall_fscore_support(y_val, y_val_pred_tree_tuned, zero_division=0)\n",
    "\n",
    "labels = ['Spiselig', 'Giftig']\n",
    "x = np.arange(len(labels))\n",
    "\n",
    "bar_width = 0.2\n",
    "\n",
    "plt.figure(figsize=(6, 4))\n",
    "\n",
    "# Logistisk Regression\n",
    "plt.bar(x - bar_width*1.5, f1_lr_before, width=bar_width, label='LR før tuning')\n",
    "plt.bar(x - bar_width*0.5, f1_lr_after, width=bar_width, label='LR efter tuning')\n",
    "\n",
    "# Decision Tree\n",
    "plt.bar(x + bar_width*0.5, f1_tree_before, width=bar_width, label='DT før tuning')\n",
    "plt.bar(x + bar_width*1.5, f1_tree_after, width=bar_width, label='DT efter tuning')\n",
    "\n",
    "plt.xticks(x, labels)\n",
    "plt.ylabel(\"F1-score\")\n",
    "plt.ylim(0, 1.1)\n",
    "plt.title(\"F1-score før og efter hyperparameter-tuning\")\n",
    "plt.legend()\n",
    "plt.grid(True, axis='y', linestyle='--', alpha=0.6)\n",
    "plt.tight_layout()\n",
    "plt.show()\n"
   ],
   "id": "82ea0108a617179d",
   "outputs": [
    {
     "data": {
      "text/plain": [
       "<Figure size 600x400 with 1 Axes>"
      ],
      "image/png": "[encoded data removed]"
     },
     "metadata": {},
     "output_type": "display_data"
    }
   ],
   "execution_count": 78
  },
  {
   "metadata": {},
   "cell_type": "markdown",
   "source": [
    "## Sammenligning før og efter tuning\n",
    "\n",
    "For at vurdere effekten af vores hyperparameter-tuning har vi visualiseret F1-score for både **spiselige** og **giftige** svampe før og efter tuning – for hver model.\n",
    "\n",
    "### Hvad viser diagrammet?\n",
    "\n",
    "- **Logistisk Regression (LR)** viser kun en lille forbedring efter tuning – især på den giftige klasse, hvor F1-score stiger en smule. Dette skyldes, at modellen allerede var godt reguleret, og tuning bekræfter blot, at vi var tæt på det optimale (C=0.01).\n",
    "- **Decision Tree (DT)** havde oprindeligt perfekte scores (F1 = 1.00) for begge klasser. Efter tuning falder disse en anelse til **0.98**, hvilket faktisk **reducerer risikoen for overfitting** og skaber en mere robust model.\n",
    "\n",
    "---\n",
    "\n",
    "### Konklusion:\n",
    "\n",
    "- **Logistisk Regression**:\n",
    "  - F1-score ændrer sig kun marginalt (fra ca. 0.84 til 0.86 for giftige svampe).\n",
    "  - Det viser, at modellen allerede havde god generaliseringsevne, og at tuning ikke altid giver markante forbedringer.\n",
    "  - Dette tolkes som **et tegn på robusthed** og stabilitet.\n",
    "\n",
    "- **Decision Tree**:\n",
    "  - Tuning reducerer overfitting uden at skade performance væsentligt.\n",
    "  - Modellen er stadig meget præcis, men nu bedre balanceret mellem bias og varians.\n",
    "\n",
    "---\n",
    "\n",
    "### Refleksion:\n",
    "\n",
    "> Tuning forbedrer ikke altid resultaterne markant – men det er stadig vigtigt.\n",
    "> Det kan bekræfte, at vores model allerede er god, eller hjælpe os med at finde bedre balance.\n",
    "> Det vigtigste er, at vi **forstår og forklarer forskellen**, ikke nødvendigvis opnår en højere score.\n"
   ],
   "id": "80b744d08e67e08d"
  },
  {
   "metadata": {},
   "cell_type": "markdown",
   "source": [
    "## Endelig evaluering på testdatasæt\n",
    "\n",
    "Vi har nu testet vores bedst tunede modeller på tidligere usete data – testdatasættet (20% af det oprindelige datasæt), som ikke har været brugt under træning eller tuning."
   ],
   "id": "3948ccb660a40a3e"
  },
  {
   "metadata": {
    "ExecuteTime": {
     "end_time": "2025-06-09T13:19:37.355549Z",
     "start_time": "2025-06-09T13:19:37.226600Z"
    }
   },
   "cell_type": "code",
   "source": [
    "from sklearn.metrics import confusion_matrix, ConfusionMatrixDisplay\n",
    "\n",
    "# Logistisk Regression\n",
    "\n",
    "# Forudsig klasser for det usete testdatasæt\n",
    "y_test_pred_lr = best_lr_model.predict(X_test_scaled)\n",
    "\n",
    "# Udskriv evalueringsmetrikker\n",
    "print(\"Logistisk Regression – performance på testdatasæt:\")\n",
    "print(classification_report(y_test, y_test_pred_lr))\n",
    "\n",
    "# Visualiser Confusion Matrix\n",
    "cm_lr = confusion_matrix(y_test, y_test_pred_lr)\n",
    "disp_lr = ConfusionMatrixDisplay(confusion_matrix=cm_lr, display_labels=['Spiselig', 'Giftig'])\n",
    "disp_lr.plot(cmap='Greens')\n",
    "plt.title(\"Logistisk Regression – Confusion Matrix\")\n",
    "plt.show()"
   ],
   "id": "d2b3093c81875dd0",
   "outputs": [
    {
     "name": "stdout",
     "output_type": "stream",
     "text": [
      "Logistisk Regression – performance på testdatasæt:\n",
      "              precision    recall  f1-score   support\n",
      "\n",
      "       False       0.78      0.81      0.79      5140\n",
      "        True       0.85      0.82      0.84      6634\n",
      "\n",
      "    accuracy                           0.82     11774\n",
      "   macro avg       0.81      0.82      0.82     11774\n",
      "weighted avg       0.82      0.82      0.82     11774\n",
      "\n"
     ]
    },
    {
     "data": {
      "text/plain": [
       "<Figure size 640x480 with 2 Axes>"
      ],
      "image/png": "[encoded data removed]"
     },
     "metadata": {},
     "output_type": "display_data"
    }
   ],
   "execution_count": 79
  },
  {
   "metadata": {},
   "cell_type": "markdown",
   "source": [
    "### Logistisk Regression (efter tuning, C=0.01)\n",
    "\n",
    "| Klasse     | Precision | Recall | F1-score |\n",
    "|------------|-----------|--------|----------|\n",
    "| Spiselig   | 0.78      | 0.81   | 0.79     |\n",
    "| Giftig     | 0.85      | 0.82   | 0.84     |\n",
    "| **Gennemsnit** | 0.82      | 0.82   | 0.82     |\n",
    "\n",
    "- Total accuracy: **82%**\n",
    "- F1-score for giftige svampe: **0.84**\n",
    "- **Fordele**: God balance, lav kompleksitet, stabil generalisering\n",
    "- **Ulemper**: Overser stadig nogle giftige svampe (1161 falsk negative)\n"
   ],
   "id": "f640af64c979175c"
  },
  {
   "metadata": {
    "ExecuteTime": {
     "end_time": "2025-06-09T13:19:57.917715Z",
     "start_time": "2025-06-09T13:19:57.791133Z"
    }
   },
   "cell_type": "code",
   "source": [
    "# Decision Tree\n",
    "\n",
    "# Forudsig klasser for testdatasættet\n",
    "y_test_pred_dt = best_tree_model.predict(X_test)\n",
    "\n",
    "# Udskriv evalueringsmetrikker\n",
    "print(\"Decision Tree – performance på testdatasæt:\")\n",
    "print(classification_report(y_test, y_test_pred_dt))\n",
    "\n",
    "# Visualiser Confusion Matrix\n",
    "cm_dt = confusion_matrix(y_test, y_test_pred_dt)\n",
    "disp_dt = ConfusionMatrixDisplay(confusion_matrix=cm_dt, display_labels=['Spiselig', 'Giftig'])\n",
    "disp_dt.plot(cmap='Greens')\n",
    "plt.title(\"Decision Tree – Confusion Matrix\")\n",
    "plt.show()"
   ],
   "id": "8d7757461f8e221",
   "outputs": [
    {
     "name": "stdout",
     "output_type": "stream",
     "text": [
      "Decision Tree – performance på testdatasæt:\n",
      "              precision    recall  f1-score   support\n",
      "\n",
      "       False       0.95      1.00      0.98      5140\n",
      "        True       1.00      0.96      0.98      6634\n",
      "\n",
      "    accuracy                           0.98     11774\n",
      "   macro avg       0.98      0.98      0.98     11774\n",
      "weighted avg       0.98      0.98      0.98     11774\n",
      "\n"
     ]
    },
    {
     "data": {
      "text/plain": [
       "<Figure size 640x480 with 2 Axes>"
      ],
      "image/png": "[encoded data removed]"
     },
     "metadata": {},
     "output_type": "display_data"
    }
   ],
   "execution_count": 80
  },
  {
   "metadata": {},
   "cell_type": "markdown",
   "source": [
    "### Decision Tree (efter tuning, max_depth=15, min_samples_split=5)\n",
    "\n",
    "| Klasse     | Precision | Recall | F1-score |\n",
    "|------------|-----------|--------|----------|\n",
    "| Spiselig   | 0.95      | 1.00   | 0.98     |\n",
    "| Giftig     | 1.00      | 0.96   | 0.98     |\n",
    "| **Gennemsnit** | 0.98      | 0.98   | 0.98     |\n",
    "\n",
    "- Total accuracy: **98%**\n",
    "- F1-score for giftige svampe: **0.98**\n",
    "- **Fordele**: Høj præcision og meget lav fejlrate\n",
    "- **Ulemper**: Risiko for overfitting stadig til stede (men lavere efter tuning)"
   ],
   "id": "1fc8156620ebaec3"
  },
  {
   "metadata": {},
   "cell_type": "markdown",
   "source": [
    "### Confusion Matrix (Visuel evaluering)\n",
    "\n",
    "- Logistisk Regression:\n",
    "  - 986 spiselige blev forvekslet med giftige (*false positives*)\n",
    "  - 1161 giftige blev overset (*false negatives*) → potentielt alvorligt i praksis\n",
    "\n",
    "- Decision Tree:\n",
    "  - Kun 9 spiselige blev forvekslet\n",
    "  - 250 giftige blev overset → stadig langt færre fejl\n",
    "\n",
    "---\n",
    "\n",
    "### Samlet vurdering\n",
    "\n",
    "- **Logistisk Regression** er generel og robust, men misser flere farlige tilfælde.\n",
    "- **Decision Tree** leverer markant bedre performance og lavere risiko – især vigtigt i sikkerhedskritiske situationer.\n",
    "\n",
    "> Vi anbefaler at bruge Decision Tree til dette klassifikationsproblem, da modellen balancerer præcision og recall effektivt, og fejlraten er lav på det usete testdatasæt.\n"
   ],
   "id": "d736134c9842eadb"
  },
  {
   "metadata": {},
   "cell_type": "markdown",
   "source": [
    "### Conclusion\n",
    "\n",
    "n this project, classification models were developed to predict whether mushrooms are edible or poisonous. The process involved data preparation, feature engineering, model training, and hyperparameter tuning using GridSearchCV. Both Logistic Regression and Decision Tree algorithms were tested and compared.\n",
    "\n",
    "After tuning, the Decision Tree clearly emerged as the strongest performer, with excellent scores across all metrics and a notably lower number of critical errors.\n",
    "\n",
    "While the model still misclassified 448 poisonous mushrooms as edible—an important safety concern—it represents a significant improvement over the Logistic Regression model and earlier versions of the Decision Tree.\n",
    "\n",
    "Further improvements could involve testing ensemble methods such as Random Forest or Gradient Boosting, exploring deeper feature engineering, or applying cost-sensitive learning techniques to further minimize high-risk misclassifications."
   ],
   "id": "cb10e1815f59f178"
  }
 ],
 "metadata": {
  "kernelspec": {
   "display_name": "Python 3 (ipykernel)",
   "language": "python",
   "name": "python3"
  },
  "language_info": {
   "codemirror_mode": {
    "name": "ipython",
    "version": 3
   },
   "file_extension": ".py",
   "mimetype": "text/x-python",
   "name": "python",
   "nbconvert_exporter": "python",
   "pygments_lexer": "ipython3",
   "version": "3.12.7"
  }
 },
 "nbformat": 4,
 "nbformat_minor": 5
}

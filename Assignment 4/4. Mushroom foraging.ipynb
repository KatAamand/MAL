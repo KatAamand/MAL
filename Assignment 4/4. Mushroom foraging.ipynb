{
 "cells": [
  {
   "cell_type": "markdown",
   "id": "0bafe240-5583-43b9-86b0-4366a08c288c",
   "metadata": {},
   "source": [
    "# 4. Mushroom foraging"
   ]
  },
  {
   "cell_type": "markdown",
   "id": "31181875-5c48-4e3b-9ba3-a0febdb9ebb2",
   "metadata": {},
   "source": [
    "The [mushroom dataset](https://www.kaggle.com/datasets/dhinaharp/mushroom-dataset) contains data about approximately 60000 mushrooms, and your task is to classify them as either edible or poisonous. You can read about the features [here](https://www.kaggle.com/datasets/uciml/mushroom-classification) and import the data using:"
   ]
  },
  {
   "cell_type": "code",
   "id": "41995351-199c-4a0e-81eb-c882e435dcbd",
   "metadata": {
    "ExecuteTime": {
     "end_time": "2025-03-30T18:05:26.482022Z",
     "start_time": "2025-03-30T18:05:25.604346Z"
    }
   },
   "source": [
    "import pandas as pd\n",
    "import numpy as np\n",
    "from nltk import DecisionTreeClassifier\n",
    "from sklearn.model_selection import train_test_split\n",
    "from sklearn.preprocessing import StandardScaler\n",
    "\n",
    "pd.set_option('display.max_columns', 1000)\n",
    "df = pd.read_csv('secondary_data.csv', delimiter = ';')\n",
    "df.head()"
   ],
   "outputs": [
    {
     "data": {
      "text/plain": [
       "  class  cap-diameter cap-shape cap-surface cap-color does-bruise-or-bleed  \\\n",
       "0     p         15.26         x           g         o                    f   \n",
       "1     p         16.60         x           g         o                    f   \n",
       "2     p         14.07         x           g         o                    f   \n",
       "3     p         14.17         f           h         e                    f   \n",
       "4     p         14.64         x           h         o                    f   \n",
       "\n",
       "  gill-attachment gill-spacing gill-color  stem-height  stem-width stem-root  \\\n",
       "0               e          NaN          w        16.95       17.09         s   \n",
       "1               e          NaN          w        17.99       18.19         s   \n",
       "2               e          NaN          w        17.80       17.74         s   \n",
       "3               e          NaN          w        15.77       15.98         s   \n",
       "4               e          NaN          w        16.53       17.20         s   \n",
       "\n",
       "  stem-surface stem-color veil-type veil-color has-ring ring-type  \\\n",
       "0            y          w         u          w        t         g   \n",
       "1            y          w         u          w        t         g   \n",
       "2            y          w         u          w        t         g   \n",
       "3            y          w         u          w        t         p   \n",
       "4            y          w         u          w        t         p   \n",
       "\n",
       "  spore-print-color habitat season  \n",
       "0               NaN       d      w  \n",
       "1               NaN       d      u  \n",
       "2               NaN       d      w  \n",
       "3               NaN       d      w  \n",
       "4               NaN       d      w  "
      ],
      "text/html": [
       "<div>\n",
       "<style scoped>\n",
       "    .dataframe tbody tr th:only-of-type {\n",
       "        vertical-align: middle;\n",
       "    }\n",
       "\n",
       "    .dataframe tbody tr th {\n",
       "        vertical-align: top;\n",
       "    }\n",
       "\n",
       "    .dataframe thead th {\n",
       "        text-align: right;\n",
       "    }\n",
       "</style>\n",
       "<table border=\"1\" class=\"dataframe\">\n",
       "  <thead>\n",
       "    <tr style=\"text-align: right;\">\n",
       "      <th></th>\n",
       "      <th>class</th>\n",
       "      <th>cap-diameter</th>\n",
       "      <th>cap-shape</th>\n",
       "      <th>cap-surface</th>\n",
       "      <th>cap-color</th>\n",
       "      <th>does-bruise-or-bleed</th>\n",
       "      <th>gill-attachment</th>\n",
       "      <th>gill-spacing</th>\n",
       "      <th>gill-color</th>\n",
       "      <th>stem-height</th>\n",
       "      <th>stem-width</th>\n",
       "      <th>stem-root</th>\n",
       "      <th>stem-surface</th>\n",
       "      <th>stem-color</th>\n",
       "      <th>veil-type</th>\n",
       "      <th>veil-color</th>\n",
       "      <th>has-ring</th>\n",
       "      <th>ring-type</th>\n",
       "      <th>spore-print-color</th>\n",
       "      <th>habitat</th>\n",
       "      <th>season</th>\n",
       "    </tr>\n",
       "  </thead>\n",
       "  <tbody>\n",
       "    <tr>\n",
       "      <th>0</th>\n",
       "      <td>p</td>\n",
       "      <td>15.26</td>\n",
       "      <td>x</td>\n",
       "      <td>g</td>\n",
       "      <td>o</td>\n",
       "      <td>f</td>\n",
       "      <td>e</td>\n",
       "      <td>NaN</td>\n",
       "      <td>w</td>\n",
       "      <td>16.95</td>\n",
       "      <td>17.09</td>\n",
       "      <td>s</td>\n",
       "      <td>y</td>\n",
       "      <td>w</td>\n",
       "      <td>u</td>\n",
       "      <td>w</td>\n",
       "      <td>t</td>\n",
       "      <td>g</td>\n",
       "      <td>NaN</td>\n",
       "      <td>d</td>\n",
       "      <td>w</td>\n",
       "    </tr>\n",
       "    <tr>\n",
       "      <th>1</th>\n",
       "      <td>p</td>\n",
       "      <td>16.60</td>\n",
       "      <td>x</td>\n",
       "      <td>g</td>\n",
       "      <td>o</td>\n",
       "      <td>f</td>\n",
       "      <td>e</td>\n",
       "      <td>NaN</td>\n",
       "      <td>w</td>\n",
       "      <td>17.99</td>\n",
       "      <td>18.19</td>\n",
       "      <td>s</td>\n",
       "      <td>y</td>\n",
       "      <td>w</td>\n",
       "      <td>u</td>\n",
       "      <td>w</td>\n",
       "      <td>t</td>\n",
       "      <td>g</td>\n",
       "      <td>NaN</td>\n",
       "      <td>d</td>\n",
       "      <td>u</td>\n",
       "    </tr>\n",
       "    <tr>\n",
       "      <th>2</th>\n",
       "      <td>p</td>\n",
       "      <td>14.07</td>\n",
       "      <td>x</td>\n",
       "      <td>g</td>\n",
       "      <td>o</td>\n",
       "      <td>f</td>\n",
       "      <td>e</td>\n",
       "      <td>NaN</td>\n",
       "      <td>w</td>\n",
       "      <td>17.80</td>\n",
       "      <td>17.74</td>\n",
       "      <td>s</td>\n",
       "      <td>y</td>\n",
       "      <td>w</td>\n",
       "      <td>u</td>\n",
       "      <td>w</td>\n",
       "      <td>t</td>\n",
       "      <td>g</td>\n",
       "      <td>NaN</td>\n",
       "      <td>d</td>\n",
       "      <td>w</td>\n",
       "    </tr>\n",
       "    <tr>\n",
       "      <th>3</th>\n",
       "      <td>p</td>\n",
       "      <td>14.17</td>\n",
       "      <td>f</td>\n",
       "      <td>h</td>\n",
       "      <td>e</td>\n",
       "      <td>f</td>\n",
       "      <td>e</td>\n",
       "      <td>NaN</td>\n",
       "      <td>w</td>\n",
       "      <td>15.77</td>\n",
       "      <td>15.98</td>\n",
       "      <td>s</td>\n",
       "      <td>y</td>\n",
       "      <td>w</td>\n",
       "      <td>u</td>\n",
       "      <td>w</td>\n",
       "      <td>t</td>\n",
       "      <td>p</td>\n",
       "      <td>NaN</td>\n",
       "      <td>d</td>\n",
       "      <td>w</td>\n",
       "    </tr>\n",
       "    <tr>\n",
       "      <th>4</th>\n",
       "      <td>p</td>\n",
       "      <td>14.64</td>\n",
       "      <td>x</td>\n",
       "      <td>h</td>\n",
       "      <td>o</td>\n",
       "      <td>f</td>\n",
       "      <td>e</td>\n",
       "      <td>NaN</td>\n",
       "      <td>w</td>\n",
       "      <td>16.53</td>\n",
       "      <td>17.20</td>\n",
       "      <td>s</td>\n",
       "      <td>y</td>\n",
       "      <td>w</td>\n",
       "      <td>u</td>\n",
       "      <td>w</td>\n",
       "      <td>t</td>\n",
       "      <td>p</td>\n",
       "      <td>NaN</td>\n",
       "      <td>d</td>\n",
       "      <td>w</td>\n",
       "    </tr>\n",
       "  </tbody>\n",
       "</table>\n",
       "</div>"
      ]
     },
     "execution_count": 52,
     "metadata": {},
     "output_type": "execute_result"
    }
   ],
   "execution_count": 52
  },
  {
   "cell_type": "markdown",
   "id": "8ab16bc8-44af-4f86-97f8-ae339dbbbd67",
   "metadata": {},
   "source": [
    "It's up to you how you approach this data, but at a minimum, your analysis should include:\n",
    "\n",
    "* Informed **data preparation**.\n",
    "* 2 different classification models, one of which must be **logistic regression**.\n",
    "* A discussion of which **performance metric** is most relevant for the evaluation of your models.\n",
    "* 2 different **validation methodologies** used to tune hyperparameters.\n",
    "* **Confusion matrices** for your models, and associated comments."
   ]
  },
  {
   "metadata": {},
   "cell_type": "markdown",
   "source": "## Data Preparation",
   "id": "6ae662fe22ff9241"
  },
  {
   "metadata": {},
   "cell_type": "markdown",
   "source": "### Data inspection",
   "id": "b619541fdb0ed989"
  },
  {
   "metadata": {
    "ExecuteTime": {
     "end_time": "2025-03-30T18:05:26.723835Z",
     "start_time": "2025-03-30T18:05:26.633319Z"
    }
   },
   "cell_type": "code",
   "source": [
    "# Retrieving information about datatypes and missing values\n",
    "df.info()\n",
    "\n",
    "# Checking for unique values for every column\n",
    "for column in df.columns:\n",
    "    print(f\"{column}, {df[column].unique()}\")"
   ],
   "id": "c9cd9ff530c65218",
   "outputs": [
    {
     "name": "stdout",
     "output_type": "stream",
     "text": [
      "<class 'pandas.core.frame.DataFrame'>\n",
      "RangeIndex: 61069 entries, 0 to 61068\n",
      "Data columns (total 21 columns):\n",
      " #   Column                Non-Null Count  Dtype  \n",
      "---  ------                --------------  -----  \n",
      " 0   class                 61069 non-null  object \n",
      " 1   cap-diameter          61069 non-null  float64\n",
      " 2   cap-shape             61069 non-null  object \n",
      " 3   cap-surface           46949 non-null  object \n",
      " 4   cap-color             61069 non-null  object \n",
      " 5   does-bruise-or-bleed  61069 non-null  object \n",
      " 6   gill-attachment       51185 non-null  object \n",
      " 7   gill-spacing          36006 non-null  object \n",
      " 8   gill-color            61069 non-null  object \n",
      " 9   stem-height           61069 non-null  float64\n",
      " 10  stem-width            61069 non-null  float64\n",
      " 11  stem-root             9531 non-null   object \n",
      " 12  stem-surface          22945 non-null  object \n",
      " 13  stem-color            61069 non-null  object \n",
      " 14  veil-type             3177 non-null   object \n",
      " 15  veil-color            7413 non-null   object \n",
      " 16  has-ring              61069 non-null  object \n",
      " 17  ring-type             58598 non-null  object \n",
      " 18  spore-print-color     6354 non-null   object \n",
      " 19  habitat               61069 non-null  object \n",
      " 20  season                61069 non-null  object \n",
      "dtypes: float64(3), object(18)\n",
      "memory usage: 9.8+ MB\n",
      "class, ['p' 'e']\n",
      "cap-diameter, [15.26 16.6  14.07 ... 22.85 21.8  20.42]\n",
      "cap-shape, ['x' 'f' 'p' 'b' 'c' 's' 'o']\n",
      "cap-surface, ['g' 'h' nan 't' 'y' 'e' 's' 'l' 'd' 'w' 'i' 'k']\n",
      "cap-color, ['o' 'e' 'n' 'g' 'r' 'w' 'y' 'p' 'u' 'b' 'l' 'k']\n",
      "does-bruise-or-bleed, ['f' 't']\n",
      "gill-attachment, ['e' nan 'a' 'd' 's' 'x' 'p' 'f']\n",
      "gill-spacing, [nan 'c' 'd' 'f']\n",
      "gill-color, ['w' 'n' 'p' 'u' 'b' 'g' 'y' 'r' 'e' 'o' 'k' 'f']\n",
      "stem-height, [16.95 17.99 17.8  ...  1.23  1.16  0.  ]\n",
      "stem-width, [17.09 18.19 17.74 ... 32.59 30.99 30.51]\n",
      "stem-root, ['s' nan 'b' 'r' 'c' 'f']\n",
      "stem-surface, ['y' nan 's' 'k' 'i' 'h' 't' 'g' 'f']\n",
      "stem-color, ['w' 'y' 'n' 'u' 'b' 'l' 'r' 'p' 'e' 'k' 'g' 'o' 'f']\n",
      "veil-type, ['u' nan]\n",
      "veil-color, ['w' 'y' nan 'n' 'e' 'u' 'k']\n",
      "has-ring, ['t' 'f']\n",
      "ring-type, ['g' 'p' 'e' 'l' 'f' 'm' nan 'r' 'z']\n",
      "spore-print-color, [nan 'w' 'p' 'k' 'r' 'u' 'n' 'g']\n",
      "habitat, ['d' 'm' 'g' 'h' 'l' 'p' 'w' 'u']\n",
      "season, ['w' 'u' 'a' 's']\n"
     ]
    }
   ],
   "execution_count": 53
  },
  {
   "metadata": {},
   "cell_type": "markdown",
   "source": [
    "#### Data inspection findings\n",
    "By inspecting the dataset structure, data types and missing values, we observe that it contains 61.069 entries and 21 columns. Among these columns, there are 3 numerical features and 18 categorical features. Several columns contain missing values (NaN), which must be addressed during data preparation\n",
    "\n",
    "\n",
    "### Handling missing values\n",
    "Columns with significant missing data:\n",
    "   - stem-root(9531 non-null values)\n",
    "   - veil-type(3177 non-null values)\n",
    "   - veil-color (7413 non-null values)\n",
    "   - spore-print-color(6354 non-null values)\n",
    "\n",
    "Given the significant amount of missing data, these columns are unlikely to contribute meaningfully to our models performance. Therefore we decide to remove them entirely from the dataset.\n",
    "\n",
    "Remaining columns with missing data:\n",
    "   - cap-surface\n",
    "   - stem-surface\n",
    "   - gill-spacing\n",
    "   - gill-attachment\n",
    "   - ring-type\n",
    "\n",
    "Possible strategies for handling missing values:\n",
    "   - Removing all entries containing missing values, would result in substantial data loss\n",
    "   - Filling missing values with a new category: \"missing\", for categorical columns\n",
    "   - Filling missing values with the most frequent category, the mode.\n",
    "\n",
    "Since all remaining columns with missing values are categorical, we choose the second strategy, creating a new category labeled \"missing\"\n"
   ],
   "id": "91b46aa39357833"
  },
  {
   "metadata": {
    "ExecuteTime": {
     "end_time": "2025-03-30T18:05:26.848872Z",
     "start_time": "2025-03-30T18:05:26.770412Z"
    }
   },
   "cell_type": "code",
   "source": [
    "# Removing columns with the least amount of non-null\n",
    "df_reduced = df.drop(['stem-root', 'veil-type', 'veil-color', 'spore-print-color'], axis=1)\n",
    "\n",
    "# Filling NaN-values with \"missing\" category\n",
    "categorical_columns_with_nan = ['cap-surface', 'gill-attachment', 'stem-surface', 'gill-spacing', 'ring-type']\n",
    "\n",
    "df_reduced[categorical_columns_with_nan] = df_reduced[categorical_columns_with_nan].fillna('missing')\n",
    "\n",
    "# Testing if there still is NaN values\n",
    "df_reduced.isnull().sum().sum()"
   ],
   "id": "feaa640992631c23",
   "outputs": [
    {
     "data": {
      "text/plain": [
       "np.int64(0)"
      ]
     },
     "execution_count": 54,
     "metadata": {},
     "output_type": "execute_result"
    }
   ],
   "execution_count": 54
  },
  {
   "metadata": {},
   "cell_type": "markdown",
   "source": "### Analysis of class distribution",
   "id": "6709111719cf1887"
  },
  {
   "metadata": {
    "ExecuteTime": {
     "end_time": "2025-03-30T18:05:26.951508Z",
     "start_time": "2025-03-30T18:05:26.939246Z"
    }
   },
   "cell_type": "code",
   "source": "print(df_reduced['class'].value_counts(normalize=True))",
   "id": "9ab08a6441d83f6b",
   "outputs": [
    {
     "name": "stdout",
     "output_type": "stream",
     "text": [
      "class\n",
      "p    0.554913\n",
      "e    0.445087\n",
      "Name: proportion, dtype: float64\n"
     ]
    }
   ],
   "execution_count": 55
  },
  {
   "metadata": {},
   "cell_type": "markdown",
   "source": [
    "#### Findings for class distribution analysis\n",
    "Due to the slight class imbalance (55% poisonous vs. 45% edible), accuracy alone is not sufficient to assess model quality. We therefore focus on:\n",
    "\n",
    "- Recall: To minimize the risk of misclassifying poisonous mushrooms as edible.\n",
    "- Precision: To reduce false positives and ensure reliability.\n",
    "- F1-score: As our primary metric, since it balances precision and recall.\n",
    "\n",
    "This is especially relevant in our safety-focused context."
   ],
   "id": "8a0149b24f228c30"
  },
  {
   "metadata": {},
   "cell_type": "markdown",
   "source": "### Numerical features",
   "id": "b4c25c3508007d8c"
  },
  {
   "metadata": {
    "ExecuteTime": {
     "end_time": "2025-03-30T18:05:27.087767Z",
     "start_time": "2025-03-30T18:05:27.061540Z"
    }
   },
   "cell_type": "code",
   "source": "df_reduced[['cap-diameter', 'stem-height', 'stem-width']].describe()",
   "id": "381d6bfd2bc98c68",
   "outputs": [
    {
     "data": {
      "text/plain": [
       "       cap-diameter   stem-height    stem-width\n",
       "count  61069.000000  61069.000000  61069.000000\n",
       "mean       6.733854      6.581538     12.149410\n",
       "std        5.264845      3.370017     10.035955\n",
       "min        0.380000      0.000000      0.000000\n",
       "25%        3.480000      4.640000      5.210000\n",
       "50%        5.860000      5.950000     10.190000\n",
       "75%        8.540000      7.740000     16.570000\n",
       "max       62.340000     33.920000    103.910000"
      ],
      "text/html": [
       "<div>\n",
       "<style scoped>\n",
       "    .dataframe tbody tr th:only-of-type {\n",
       "        vertical-align: middle;\n",
       "    }\n",
       "\n",
       "    .dataframe tbody tr th {\n",
       "        vertical-align: top;\n",
       "    }\n",
       "\n",
       "    .dataframe thead th {\n",
       "        text-align: right;\n",
       "    }\n",
       "</style>\n",
       "<table border=\"1\" class=\"dataframe\">\n",
       "  <thead>\n",
       "    <tr style=\"text-align: right;\">\n",
       "      <th></th>\n",
       "      <th>cap-diameter</th>\n",
       "      <th>stem-height</th>\n",
       "      <th>stem-width</th>\n",
       "    </tr>\n",
       "  </thead>\n",
       "  <tbody>\n",
       "    <tr>\n",
       "      <th>count</th>\n",
       "      <td>61069.000000</td>\n",
       "      <td>61069.000000</td>\n",
       "      <td>61069.000000</td>\n",
       "    </tr>\n",
       "    <tr>\n",
       "      <th>mean</th>\n",
       "      <td>6.733854</td>\n",
       "      <td>6.581538</td>\n",
       "      <td>12.149410</td>\n",
       "    </tr>\n",
       "    <tr>\n",
       "      <th>std</th>\n",
       "      <td>5.264845</td>\n",
       "      <td>3.370017</td>\n",
       "      <td>10.035955</td>\n",
       "    </tr>\n",
       "    <tr>\n",
       "      <th>min</th>\n",
       "      <td>0.380000</td>\n",
       "      <td>0.000000</td>\n",
       "      <td>0.000000</td>\n",
       "    </tr>\n",
       "    <tr>\n",
       "      <th>25%</th>\n",
       "      <td>3.480000</td>\n",
       "      <td>4.640000</td>\n",
       "      <td>5.210000</td>\n",
       "    </tr>\n",
       "    <tr>\n",
       "      <th>50%</th>\n",
       "      <td>5.860000</td>\n",
       "      <td>5.950000</td>\n",
       "      <td>10.190000</td>\n",
       "    </tr>\n",
       "    <tr>\n",
       "      <th>75%</th>\n",
       "      <td>8.540000</td>\n",
       "      <td>7.740000</td>\n",
       "      <td>16.570000</td>\n",
       "    </tr>\n",
       "    <tr>\n",
       "      <th>max</th>\n",
       "      <td>62.340000</td>\n",
       "      <td>33.920000</td>\n",
       "      <td>103.910000</td>\n",
       "    </tr>\n",
       "  </tbody>\n",
       "</table>\n",
       "</div>"
      ]
     },
     "execution_count": 56,
     "metadata": {},
     "output_type": "execute_result"
    }
   ],
   "execution_count": 56
  },
  {
   "metadata": {},
   "cell_type": "markdown",
   "source": [
    "#### Findings behind numerical features analysis\n",
    "Through our analysis, we observe extreme outliers in all numerical features. For instance, in the feature cap-diameter the majority of mushrooms have a cap-diameter between 3.4cm and 8.5cm, yet there is an unusual observation of 62.3cm, indicating either measurement errors or exceptionally rare cases. Similarly, \"stem-width\" contains an extreme value of 103.9 cm, which also appears to be highly improbable.\n",
    "\n",
    "*Options for handling outliers*\n",
    "- Removing outliers using percentiles, e.g. removing values above the 99th percentile.\n",
    "- Retaining outliers, relying on robust models such as Random Forest to handle them, and employing scaling techniques when working with Logistic Regression.\n",
    "\n",
    "We choose the first method - removing outliers - since these extreme values likely represents data collection errors or anomalies rather that genuine variations. Removing these outliers ensures that our models can train on reliable and representative data, thus improving overall model accuracy and performance."
   ],
   "id": "8cc31a2838ddc0fe"
  },
  {
   "metadata": {
    "ExecuteTime": {
     "end_time": "2025-03-30T18:05:27.286401Z",
     "start_time": "2025-03-30T18:05:27.238634Z"
    }
   },
   "cell_type": "code",
   "source": [
    "# Removing extreme outliers with 99th percentile\n",
    "for col in ['cap-diameter', 'stem-height', 'stem-width']:\n",
    "    upper_limit = np.percentile(df_reduced[col], 99)\n",
    "    df_reduced = df_reduced[df_reduced[col] <= upper_limit]\n"
   ],
   "id": "4ead8524985ce0",
   "outputs": [],
   "execution_count": 57
  },
  {
   "metadata": {},
   "cell_type": "markdown",
   "source": [
    "### One-hot encoding of categorical features\n",
    "Since machine learning models require numerical input, we transform our categorical features using One-hot encoding. This technique converts each categorical variable into multiple binary columns, each representing a distinct category. A value of `1` indicates the presence of a particular category, while `0` indicates its absence. We apply the encoding using pandas' `get_dummies()` function with the parameter `drop_first=True` to avoid multi collinearity issues."
   ],
   "id": "b872602526758d32"
  },
  {
   "metadata": {
    "ExecuteTime": {
     "end_time": "2025-03-30T18:05:27.445381Z",
     "start_time": "2025-03-30T18:05:27.363232Z"
    }
   },
   "cell_type": "code",
   "source": [
    "# Applying one-hot encoding\n",
    "df_encoded = pd.get_dummies(df_reduced, drop_first = True)"
   ],
   "id": "cfccac67cf5a1f58",
   "outputs": [],
   "execution_count": 58
  },
  {
   "metadata": {},
   "cell_type": "markdown",
   "source": [
    "### Classification models\n",
    "We will use two classification models to evaluate our dataset:\n",
    "- Logistic Regression (baseline): Chosen for its simplicity, interpretability, and efficiency, making it ideal as a baseline model.\n",
    "- Decision Tree: Chosen due to its interpretability, robustness to feature scale, and effectiveness in handling categorical features.\n",
    "\n",
    "To properly assess and tune our models, we split our dataset into three distinct sets:\n",
    "- Training set (60%): Used for fitting the model.\n",
    "- Validation set (20%): Used for hyperparameter tuning and model selection.\n",
    "- Test set (20%): Used for the final unbiased evaluation of model performance."
   ],
   "id": "39493b8fd02c4cf6"
  },
  {
   "metadata": {
    "ExecuteTime": {
     "end_time": "2025-03-30T18:05:27.620978Z",
     "start_time": "2025-03-30T18:05:27.537618Z"
    }
   },
   "cell_type": "code",
   "source": [
    "from sklearn.model_selection import train_test_split\n",
    "\n",
    "# First, splitting the data set into temporary set of 80% and a test set of 20%\n",
    "X_temp, X_test, y_temp, y_test = train_test_split(df_encoded.drop('class_p', axis=1),   df_encoded['class_p'], test_size=0.2, random_state=42, stratify=df_encoded['class_p'])\n",
    "\n",
    "# Next, split the temporary set into 60% training set and 20% validation set\n",
    "X_train, X_val, y_train, y_val = train_test_split(X_temp, y_temp, test_size=0.25, random_state=42, stratify=y_temp)\n",
    "\n",
    "# Verify dataset sizes\n",
    "print(f'Training set size: {X_train.shape[0]} samples')\n",
    "print(f'Validation set size: {X_val.shape[0]} samples')\n",
    "print(f'Test set size: {X_test.shape[0]} samples')"
   ],
   "id": "2615c74ae9fe9a49",
   "outputs": [
    {
     "name": "stdout",
     "output_type": "stream",
     "text": [
      "Training set size: 35553 samples\n",
      "Validation set size: 11851 samples\n",
      "Test set size: 11852 samples\n"
     ]
    }
   ],
   "execution_count": 59
  },
  {
   "metadata": {},
   "cell_type": "markdown",
   "source": "### Training classification models",
   "id": "30f8b0f8aa145015"
  },
  {
   "metadata": {
    "ExecuteTime": {
     "end_time": "2025-03-30T18:28:42.695496Z",
     "start_time": "2025-03-30T18:28:41.454086Z"
    }
   },
   "cell_type": "code",
   "source": [
    "from sklearn.linear_model import LogisticRegression\n",
    "from sklearn.tree import DecisionTreeClassifier\n",
    "from sklearn.preprocessing import StandardScaler\n",
    "from sklearn.metrics import classification_report\n",
    "\n",
    "# Scaling numerical features for Logistic Regression\n",
    "scaler = StandardScaler()\n",
    "\n",
    "# Fit scaler only on training data, then transform training, validation, and test data\n",
    "X_train_scaled = scaler.fit_transform(X_train)\n",
    "X_val_scaled = scaler.transform(X_val)\n",
    "X_test_scaled = scaler.transform(X_test)\n",
    "\n",
    "# Training Logistic Regression model on scaled data\n",
    "lr_model = LogisticRegression(random_state=42)\n",
    "lr_model.fit(X_train_scaled, y_train)\n",
    "\n",
    "# Evaluating Logistic Regression model on validation set\n",
    "y_val_pred_lr = lr_model.predict(X_val_scaled)\n",
    "print(\"Logistic Regression performance on validation set:\")\n",
    "print(classification_report(y_val, y_val_pred_lr))\n",
    "\n",
    "# Training Decision Tree model (scaling not required)\n",
    "tree_model = DecisionTreeClassifier(random_state=42)\n",
    "tree_model.fit(X_train, y_train)\n",
    "\n",
    "# Evaluating Decision Tree model on validation set (using original, unscaled data)\n",
    "y_val_pred_tree = tree_model.predict(X_val)\n",
    "print(\"Decision Tree performance on validation set:\")\n",
    "print(classification_report(y_val, y_val_pred_tree))\n"
   ],
   "id": "7899c4083eb3b845",
   "outputs": [
    {
     "name": "stdout",
     "output_type": "stream",
     "text": [
      "Logistic Regression performance on validation set:\n",
      "              precision    recall  f1-score   support\n",
      "\n",
      "       False       0.78      0.81      0.80      5128\n",
      "        True       0.85      0.83      0.84      6723\n",
      "\n",
      "    accuracy                           0.82     11851\n",
      "   macro avg       0.82      0.82      0.82     11851\n",
      "weighted avg       0.82      0.82      0.82     11851\n",
      "\n",
      "Decision Tree performance on validation set:\n",
      "              precision    recall  f1-score   support\n",
      "\n",
      "       False       1.00      1.00      1.00      5128\n",
      "        True       1.00      1.00      1.00      6723\n",
      "\n",
      "    accuracy                           1.00     11851\n",
      "   macro avg       1.00      1.00      1.00     11851\n",
      "weighted avg       1.00      1.00      1.00     11851\n",
      "\n"
     ]
    }
   ],
   "execution_count": 66
  },
  {
   "metadata": {},
   "cell_type": "markdown",
   "source": [
    "### Results summary\n",
    "- Logistic Regression achieved an F1-score of 0.84(poisonous) and 0.8(edible) which indicates a stable perfomance and minimal need for adjustment.\n",
    "- Decision Tree, reached perfect scores, a clear sign of overfitting. We will proceed with hyperparameter tuning\n",
    "\n",
    "\n",
    "### Hyperparameter tuning and validation methodologies\n",
    "To improve model performance and avoid overfitting, we perform hyperparameter tuning — the process of systematically selecting the best configuration of model settings. Instead of manually guessing, we use **GridSearchCV**, which automates this search by testing all parameter combinations.\n",
    "\n",
    "Two validation strategies are used:\n",
    "\n",
    "- **Hold-out validation set (20%)**: For unbiased evaluation of tuned models.\n",
    "- **5-fold cross-validation**: Used inside GridSearchCV to ensure stable and generalizable parameter selection across different data splits.\n",
    "\n",
    "The parameter grid for each model included commonly adjusted settings, such as C for Logistic Regression and max_depth for Decision Tree. For both models, the best configuration was selected based on the highest F1-score across the 5 folds.\n",
    "\n",
    "Tuning is guided by the **F1-score**, as it balances precision and recall — which is crucial in our safety-critical classification context. The best hyperparameter settings are then used to retrain the models for final evaluation.\n"
   ],
   "id": "dd2158e988513931"
  },
  {
   "metadata": {
    "ExecuteTime": {
     "end_time": "2025-03-30T18:35:09.274765Z",
     "start_time": "2025-03-30T18:35:00.346704Z"
    }
   },
   "cell_type": "code",
   "source": [
    "# Hyperparameter tuning for Logistic Regression\n",
    "from sklearn.linear_model import LogisticRegression\n",
    "from sklearn.model_selection import GridSearchCV\n",
    "from sklearn.metrics import classification_report\n",
    "\n",
    "# Define parameter grid for Logistic Regression\n",
    "param_grid_lr = {\n",
    "    'C': [0.01, 0.1, 1, 10, 100],\n",
    "}\n",
    "\n",
    "# Initialize GridSearchCV\n",
    "grid_search_lr = GridSearchCV(\n",
    "    LogisticRegression(random_state=42, max_iter=1000),\n",
    "    param_grid_lr,\n",
    "    scoring='f1',\n",
    "    cv=5,\n",
    ")\n",
    "\n",
    "# Fit GridSearchCV on scaled training data\n",
    "grid_search_lr.fit(X_train_scaled, y_train)\n",
    "\n",
    "# Print best hyperparameters\n",
    "print(\"Best Logistic Regression parameters:\", grid_search_lr.best_params_)\n",
    "\n",
    "# Evaluate the best Logistic Regression model on validation set\n",
    "best_lr_model = grid_search_lr.best_estimator_\n",
    "y_val_pred_lr = best_lr_model.predict(X_val_scaled)\n",
    "print(\"Logistic Regression performance after tuning:\")\n",
    "print(classification_report(y_val, y_val_pred_lr))"
   ],
   "id": "db8e92291ec5c77d",
   "outputs": [
    {
     "name": "stdout",
     "output_type": "stream",
     "text": [
      "Best Logistic Regression parameters: {'C': 0.01}\n",
      "Logistic Regression performance after tuning:\n",
      "              precision    recall  f1-score   support\n",
      "\n",
      "       False       0.78      0.81      0.80      5128\n",
      "        True       0.85      0.83      0.84      6723\n",
      "\n",
      "    accuracy                           0.82     11851\n",
      "   macro avg       0.82      0.82      0.82     11851\n",
      "weighted avg       0.82      0.82      0.82     11851\n",
      "\n"
     ]
    }
   ],
   "execution_count": 67
  },
  {
   "metadata": {
    "ExecuteTime": {
     "end_time": "2025-03-30T18:21:12.092562Z",
     "start_time": "2025-03-30T18:21:09.741930Z"
    }
   },
   "cell_type": "code",
   "source": [
    "from sklearn.tree import DecisionTreeClassifier\n",
    "from sklearn.model_selection import GridSearchCV\n",
    "from sklearn.metrics import classification_report\n",
    "\n",
    "# Define parameter grid for Decision Tree\n",
    "param_grid_tree = {\n",
    "    'max_depth': [3, 5, 7, 10],\n",
    "    'min_samples_split': [2, 5, 10]\n",
    "}\n",
    "\n",
    "# Initialize GridSearchCV\n",
    "grid_search_tree = GridSearchCV(\n",
    "    DecisionTreeClassifier(random_state=42),\n",
    "    param_grid_tree,\n",
    "    scoring='f1',\n",
    "    cv=5,\n",
    ")\n",
    "\n",
    "# Fit GridSearchCV on unscaled training data\n",
    "grid_search_tree.fit(X_train, y_train)\n",
    "\n",
    "# Print best hyperparameters\n",
    "print(\"Best Decision Tree parameters:\", grid_search_tree.best_params_)\n",
    "\n",
    "# Evaluate best Decision Tree model on validation set\n",
    "best_tree_model = grid_search_tree.best_estimator_\n",
    "y_val_pred_tree = best_tree_model.predict(X_val)\n",
    "print(\"Decision Tree performance after tuning:\")\n",
    "print(classification_report(y_val, y_val_pred_tree))\n"
   ],
   "id": "cf998f2f66dbad82",
   "outputs": [
    {
     "name": "stdout",
     "output_type": "stream",
     "text": [
      "Best Decision Tree parameters: {'max_depth': 10, 'min_samples_split': 2}\n",
      "Decision Tree performance after tuning:\n",
      "              precision    recall  f1-score   support\n",
      "\n",
      "       False       0.82      0.93      0.87      5128\n",
      "        True       0.94      0.84      0.89      6723\n",
      "\n",
      "    accuracy                           0.88     11851\n",
      "   macro avg       0.88      0.89      0.88     11851\n",
      "weighted avg       0.89      0.88      0.88     11851\n",
      "\n"
     ]
    }
   ],
   "execution_count": 65
  },
  {
   "metadata": {},
   "cell_type": "markdown",
   "source": [
    "### Validation results after hyperparameter tuning\n",
    "\n",
    "After tuning both models using GridSearchCV and 5-fold cross-validation, we compared their performance on the validation set.\n",
    "\n",
    "- **Logistic Regression** achieved an F1-score of 0.84 for poisonous mushrooms and 0.80 for edible. Performance remained stable compared to the initial run, suggesting the default settings were already close to optimal.\n",
    "\n",
    "- **Decision Tree**, tuned with a maximum depth of 10 and a minimum split of 2, showed improved generalization. It achieved an F1-score of 0.89 (poisonous) and 0.87 (edible), indicating stronger performance overall.\n",
    "\n",
    "Based on these results, the Decision Tree model appears to perform better, particularly in terms of recall and overall balance. However, we now evaluate both models on the unseen test set to objectively compare final performance."
   ],
   "id": "80b744d08e67e08d"
  },
  {
   "metadata": {
    "ExecuteTime": {
     "end_time": "2025-03-30T18:46:52.656216Z",
     "start_time": "2025-03-30T18:46:52.470615Z"
    }
   },
   "cell_type": "code",
   "source": [
    "from sklearn.metrics import confusion_matrix, ConfusionMatrixDisplay\n",
    "\n",
    "# Evaluating Logistic Regression model based on unseen test data\n",
    "\n",
    "# Predict on test set\n",
    "y_test_pred_lr = best_lr_model.predict(X_test_scaled)\n",
    "\n",
    "# Print classification report\n",
    "print(\"Logistic Regression performance on test set:\")\n",
    "print(classification_report(y_test, y_test_pred_lr))\n",
    "\n",
    "# Confusion matrix\n",
    "cm_lr = confusion_matrix(y_test, y_test_pred_lr)\n",
    "disp_lr = ConfusionMatrixDisplay(cm_lr, display_labels=['Edible', 'Poisonous'])\n",
    "disp_lr.plot(cmap='Greens')"
   ],
   "id": "d2b3093c81875dd0",
   "outputs": [
    {
     "name": "stdout",
     "output_type": "stream",
     "text": [
      "Logistic Regression performance on test set:\n",
      "              precision    recall  f1-score   support\n",
      "\n",
      "       False       0.79      0.82      0.80      5129\n",
      "        True       0.86      0.83      0.84      6723\n",
      "\n",
      "    accuracy                           0.82     11852\n",
      "   macro avg       0.82      0.82      0.82     11852\n",
      "weighted avg       0.83      0.82      0.83     11852\n",
      "\n"
     ]
    },
    {
     "data": {
      "text/plain": [
       "<sklearn.metrics._plot.confusion_matrix.ConfusionMatrixDisplay at 0x1fe67e3a9c0>"
      ]
     },
     "execution_count": 73,
     "metadata": {},
     "output_type": "execute_result"
    },
    {
     "data": {
      "text/plain": [
       "<Figure size 640x480 with 2 Axes>"
      ],
      "image/png": "[encoded data removed]"
     },
     "metadata": {},
     "output_type": "display_data"
    }
   ],
   "execution_count": 73
  },
  {
   "metadata": {
    "ExecuteTime": {
     "end_time": "2025-03-30T18:46:17.605713Z",
     "start_time": "2025-03-30T18:46:17.407059Z"
    }
   },
   "cell_type": "code",
   "source": [
    "# Evaluating Decision Tree model based on unseen test data\n",
    "\n",
    "# Predict on test set\n",
    "y_test_pred_dt = best_tree_model.predict(X_test)\n",
    "\n",
    "# Print classification report\n",
    "print(\"Decision Tree performance on test set:\")\n",
    "print(classification_report(y_test, y_test_pred_dt))\n",
    "\n",
    "# Confusion matrix\n",
    "cm = confusion_matrix(y_test, y_test_pred_dt)\n",
    "disp = ConfusionMatrixDisplay(confusion_matrix=cm, display_labels=['Edible', 'Poisonous'])\n",
    "disp.plot(cmap='Greens')"
   ],
   "id": "8d7757461f8e221",
   "outputs": [
    {
     "name": "stdout",
     "output_type": "stream",
     "text": [
      "Decision Tree performance on test set:\n",
      "              precision    recall  f1-score   support\n",
      "\n",
      "       False       0.81      0.93      0.87      5129\n",
      "        True       0.94      0.83      0.88      6723\n",
      "\n",
      "    accuracy                           0.88     11852\n",
      "   macro avg       0.88      0.88      0.88     11852\n",
      "weighted avg       0.88      0.88      0.88     11852\n",
      "\n"
     ]
    },
    {
     "data": {
      "text/plain": [
       "<sklearn.metrics._plot.confusion_matrix.ConfusionMatrixDisplay at 0x1fe67e21e00>"
      ]
     },
     "execution_count": 71,
     "metadata": {},
     "output_type": "execute_result"
    },
    {
     "data": {
      "text/plain": [
       "<Figure size 640x480 with 2 Axes>"
      ],
      "image/png": "[encoded data removed]"
     },
     "metadata": {},
     "output_type": "display_data"
    }
   ],
   "execution_count": 71
  },
  {
   "metadata": {},
   "cell_type": "markdown",
   "source": [
    "### Final evaluation and model selection\n",
    "\n",
    "We evaluated both tuned models on the unseen test set. While both showed strong and balanced performance, the Decision Tree model clearly outperformed Logistic Regression:\n",
    "\n",
    "- **Decision Tree** achieved an F1-score of 0.88 for poisonous mushrooms compared to 0.84 for Logistic Regression.\n",
    "- It also had higher overall accuracy (0.88 vs. 0.82), and significantly fewer false positives and false negatives.\n",
    "- The model misclassified 1116 poisonous mushrooms as edible, compared to 1132 for Logistic Regression, and had far fewer edible mushrooms falsely flagged as poisonous.\n",
    "\n",
    "Given the critical nature of correctly identifying poisonous mushrooms, the Decision Tree’s strong balance of **high precision** and **high recall** makes it the best choice.\n",
    "We therefore select the **tuned Decision Tree model** as our final classifier.\n"
   ],
   "id": "d736134c9842eadb"
  },
  {
   "metadata": {},
   "cell_type": "markdown",
   "source": [
    "### Conclusion\n",
    "\n",
    "In this project, classification models were developed to predict whether mushrooms are edible or poisonous. The process involved data preparation, model training, and hyperparameter tuning using GridSearchCV, with both Logistic Regression and Decision Tree algorithms being evaluated.\n",
    "\n",
    "After tuning, the Decision Tree performed best, with higher precision and F1-score than Logistic Regression. It also made fewer classification mistakes overall.\n",
    "\n",
    "However, the model still misclassified more than 1100 poisonous mushrooms as edible. In a real-life situation, this would be a serious problem. So even though the model performs well overall, it’s not yet reliable enough for practical use.\n",
    "\n",
    "Further improvements could include trying more advanced models, better tuning, or adjusting how the data is handled to reduce the number of critical errors.\n"
   ],
   "id": "cb10e1815f59f178"
  },
  {
   "metadata": {
    "ExecuteTime": {
     "end_time": "2025-03-30T18:53:49.600369Z",
     "start_time": "2025-03-30T18:53:49.596279Z"
    }
   },
   "cell_type": "code",
   "source": [
    "from sklearn.svm import SVC\n",
    "from sklearn.metrics import classification_report, confusion_matrix, ConfusionMatrixDisplay\n"
   ],
   "id": "d5b8dabbc3445bb0",
   "outputs": [],
   "execution_count": 75
  },
  {
   "metadata": {
    "ExecuteTime": {
     "end_time": "2025-03-30T18:54:15.129129Z",
     "start_time": "2025-03-30T18:53:53.004738Z"
    }
   },
   "cell_type": "code",
   "source": [
    "# SVM requires scaled data\n",
    "svm_model = SVC(random_state=42)\n",
    "\n",
    "# Fit the model on the scaled training data\n",
    "svm_model.fit(X_train_scaled, y_train)\n",
    "\n",
    "# Predict on validation set\n",
    "y_val_pred_svm = svm_model.predict(X_val_scaled)\n",
    "\n",
    "# Print performance\n",
    "print(\"SVM performance on validation set:\")\n",
    "print(classification_report(y_val, y_val_pred_svm))\n",
    "\n",
    "# Optional: Confusion matrix\n",
    "cm = confusion_matrix(y_val, y_val_pred_svm)\n",
    "ConfusionMatrixDisplay(confusion_matrix=cm, display_labels=['Edible', 'Poisonous']).plot(cmap='Greens')\n"
   ],
   "id": "a96ea3b954efdbb0",
   "outputs": [
    {
     "name": "stdout",
     "output_type": "stream",
     "text": [
      "SVM performance on validation set:\n",
      "              precision    recall  f1-score   support\n",
      "\n",
      "       False       1.00      1.00      1.00      5128\n",
      "        True       1.00      1.00      1.00      6723\n",
      "\n",
      "    accuracy                           1.00     11851\n",
      "   macro avg       1.00      1.00      1.00     11851\n",
      "weighted avg       1.00      1.00      1.00     11851\n",
      "\n"
     ]
    },
    {
     "data": {
      "text/plain": [
       "<sklearn.metrics._plot.confusion_matrix.ConfusionMatrixDisplay at 0x1fe67e3bf00>"
      ]
     },
     "execution_count": 76,
     "metadata": {},
     "output_type": "execute_result"
    },
    {
     "data": {
      "text/plain": [
       "<Figure size 640x480 with 2 Axes>"
      ],
      "image/png": "[encoded data removed]"
     },
     "metadata": {},
     "output_type": "display_data"
    }
   ],
   "execution_count": 76
  },
  {
   "metadata": {
    "jupyter": {
     "is_executing": true
    },
    "ExecuteTime": {
     "start_time": "2025-03-30T19:54:01.441389Z"
    }
   },
   "cell_type": "code",
   "source": [
    "from sklearn.svm import LinearSVC\n",
    "from sklearn.model_selection import GridSearchCV\n",
    "\n",
    "param_grid_lsvc = {\n",
    "    'C': [0.1, 1, 10]\n",
    "}\n",
    "\n",
    "grid_search_lsvc = GridSearchCV(\n",
    "    LinearSVC(random_state=42, max_iter=10000),\n",
    "    param_grid_lsvc,\n",
    "    scoring='f1',\n",
    "    cv=5,\n",
    "    n_jobs=-1\n",
    ")\n",
    "\n",
    "grid_search_lsvc.fit(X_train_scaled, y_train)\n",
    "\n",
    "# Best model and evaluation\n",
    "best_lsvc = grid_search_lsvc.best_estimator_\n",
    "print(\"Best LinearSVC parameters:\", grid_search_lsvc.best_params_)\n",
    "\n",
    "y_val_pred_lsvc = best_lsvc.predict(X_val_scaled)\n",
    "print(\"LinearSVC performance on validation set:\")\n",
    "print(classification_report(y_val, y_val_pred_lsvc))\n"
   ],
   "id": "3a814a7850ae4b8d",
   "outputs": [],
   "execution_count": null
  }
 ],
 "metadata": {
  "kernelspec": {
   "display_name": "Python 3 (ipykernel)",
   "language": "python",
   "name": "python3"
  },
  "language_info": {
   "codemirror_mode": {
    "name": "ipython",
    "version": 3
   },
   "file_extension": ".py",
   "mimetype": "text/x-python",
   "name": "python",
   "nbconvert_exporter": "python",
   "pygments_lexer": "ipython3",
   "version": "3.12.7"
  }
 },
 "nbformat": 4,
 "nbformat_minor": 5
}
